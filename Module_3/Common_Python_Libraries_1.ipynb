{
 "cells": [
  {
   "cell_type": "markdown",
   "metadata": {},
   "source": [
    "# Module 3 - Common Python Libraries 1 "
   ]
  },
  {
   "cell_type": "markdown",
   "metadata": {},
   "source": [
    "## <u> NumPy </u>\n",
    "\n",
    "Working with numbers is central to almost all scientific and engineering computations. \n",
    "The topic is so important that there are many dedicated libraries to help implement efficient numerical\n",
    "computations. NumPy (http://www.numpy.org/), or numerical Python, is a library that provides an extensive range of data structures and functions for numerical\n",
    "computation. It provides an interface to efficiently store and operate on arrays. Arrays are similar to Pythons lists data type but they are able to be operated on much more efficiently when they get large. This speed, and the range of tools that NumPy provides, has meant that NumPy provides almost all of the data science tools that are available in Python. \n",
    "\n",
    "The first thing to do is import NumPy into our script so that we can use its functions. One of the advantages of using Anaconda is that numpy comes pre-installed. The same applies for Azure, as it is comes with Conda pre-installed. If it isnt installed, refer to module 1 for information on how to install it.\n",
    "\n",
    "It "
   ]
  },
  {
   "cell_type": "code",
   "execution_count": 2,
   "metadata": {},
   "outputs": [],
   "source": [
    "# We begin by importing the numpy package. We can specify how we want to call numpy throughout the rest of the\n",
    "# script by putting our special alias after the 'as' command. In this case we have gone for 'np'.\n",
    "\n",
    "import numpy as np"
   ]
  },
  {
   "cell_type": "markdown",
   "metadata": {},
   "source": [
    "### <u> Built in documentation </u> \n",
    "\n",
    "As you read through this notebook there might be packages that you haven't come across, or ones where you aren't sure of the proper way to use them. If this becomes the case, you can quickly explore the contents of a package by using the tab-complete feature of IPytho (these notebooks). Place the curser within the parenthesis of the function  and press shift+tab. If you press it multiple times, then more information will appear on your screen.\n",
    "\n",
    "You can also bring up the full documentation of a function by using the '?' character, or by specifying 'help()' with the function in question written within the parenthesis.\n",
    "\n"
   ]
  },
  {
   "cell_type": "markdown",
   "metadata": {},
   "source": [
    "### <u> Creating arrays from Python Lists </u> \n",
    "\n",
    "We have already seen Python 'lists', which hold 'arrays' of data. We can access the elements of a list using an index because the entries are stored in order. Python lists are very flexible and can hold mixed data types, e.g. combinations of floats and strings, or even lists of lists etc\n",
    "\n",
    "\n",
    "The flexibility of Python lists comes at the expense of performance. Many science, engineering and mathematics problems involve very large problems with operations on numbers, and computational speed is important for large problems. To serve this need, we normally use specialised functions and data structures for numerical computation, and in particular for arrays of numbers. Some of the flexibility of lists is traded for performance."
   ]
  },
  {
   "cell_type": "code",
   "execution_count": 3,
   "metadata": {},
   "outputs": [],
   "source": [
    "# Here we convert a python list into a numpy array\n",
    "\n",
    "our_list = [1,2,3,4,5]\n",
    "our_np_array = np.array(our_list)"
   ]
  },
  {
   "cell_type": "code",
   "execution_count": 4,
   "metadata": {},
   "outputs": [],
   "source": [
    "# Or we can turn a list straight into an array\n",
    "\n",
    "a_quick_np_array = np.array([10,20,30,40,50])"
   ]
  },
  {
   "cell_type": "code",
   "execution_count": 6,
   "metadata": {},
   "outputs": [
    {
     "name": "stdout",
     "output_type": "stream",
     "text": [
      "[1, 2, 3, 4, 5] <class 'list'>\n",
      "[1 2 3 4 5] <class 'numpy.ndarray'>\n",
      "[10 20 30 40 50] <class 'numpy.ndarray'>\n"
     ]
    }
   ],
   "source": [
    "# Notice here the subtle difference between the outputs of the Python lists and the numpy arrays. Also look at the\n",
    "# data types returned for each\n",
    "\n",
    "print(our_list, type(our_list))\n",
    "print(our_np_array, type(our_np_array))\n",
    "print(a_quick_np_array, type(a_quick_np_array))"
   ]
  },
  {
   "cell_type": "markdown",
   "metadata": {},
   "source": [
    "NumPy is constrained to arrays that all contain the same data type, unlike Python lists. NumPy will, however, help out and upcast ints to floats etc."
   ]
  },
  {
   "cell_type": "code",
   "execution_count": 8,
   "metadata": {},
   "outputs": [
    {
     "name": "stdout",
     "output_type": "stream",
     "text": [
      "[1. 2. 3. 4.]\n"
     ]
    }
   ],
   "source": [
    "# Notice that the integers are upcast to floats\n",
    "\n",
    "diff_dtypes_array = np.array([1., 2, 3, 4])\n",
    "print(diff_dtypes_array)"
   ]
  },
  {
   "cell_type": "markdown",
   "metadata": {},
   "source": [
    "We can explicitly set the data type though using a keyword argument. "
   ]
  },
  {
   "cell_type": "code",
   "execution_count": null,
   "metadata": {},
   "outputs": [],
   "source": [
    "# Notice the output is all floats\n",
    "\n",
    "set_dtype = np.array([1, 2, 3, 4], dtype = 'float32')\n",
    "print(set_dtype, type(set_dtyp)"
   ]
  },
  {
   "cell_type": "markdown",
   "metadata": {},
   "source": [
    "NumPy arrays can also be multidimensional. One way of doing this is to create a list of lists"
   ]
  },
  {
   "cell_type": "code",
   "execution_count": 14,
   "metadata": {},
   "outputs": [
    {
     "name": "stdout",
     "output_type": "stream",
     "text": [
      "[[1 2 3]\n",
      " [4 5 6]\n",
      " [7 8 9]]\n"
     ]
    }
   ],
   "source": [
    "# A two dimensional array is created by having the inside lists treated as rows of the array\n",
    "\n",
    "matrix = np.array(([1,2,3], [4,5,6], [7,8,9]))\n",
    "print(matrix)"
   ]
  },
  {
   "cell_type": "markdown",
   "metadata": {},
   "source": [
    "#### <u> Quick questions </u> \n",
    "\n",
    "Can you use a for loop to write a function to initialise an n dimensional array?"
   ]
  },
  {
   "cell_type": "code",
   "execution_count": null,
   "metadata": {},
   "outputs": [],
   "source": []
  },
  {
   "cell_type": "code",
   "execution_count": null,
   "metadata": {},
   "outputs": [],
   "source": []
  },
  {
   "cell_type": "markdown",
   "metadata": {},
   "source": [
    "### <u> A more efficient method of creating arrays </u> \n",
    "\n",
    "There are several routines in NumPy that allow you to create large arrays very quickly. We will look at some in this section. For more information on different NumPy array building routines, look at the documentation found here: https://numpy.org/doc/stable/reference/routines.html"
   ]
  },
  {
   "cell_type": "code",
   "execution_count": 15,
   "metadata": {},
   "outputs": [
    {
     "data": {
      "text/plain": [
       "array([[1., 0., 0., 0.],\n",
       "       [0., 1., 0., 0.],\n",
       "       [0., 0., 1., 0.],\n",
       "       [0., 0., 0., 1.]])"
      ]
     },
     "execution_count": 15,
     "metadata": {},
     "output_type": "execute_result"
    }
   ],
   "source": [
    "# Create a 4 x 4 identity matrix\n",
    "\n",
    "np.eye(4)"
   ]
  },
  {
   "cell_type": "code",
   "execution_count": 16,
   "metadata": {},
   "outputs": [
    {
     "data": {
      "text/plain": [
       "array([[ 5,  5, 10, 10],\n",
       "       [10,  6,  6, 10],\n",
       "       [ 7, 10,  8,  6],\n",
       "       [ 7, 10, 11,  6]])"
      ]
     },
     "execution_count": 16,
     "metadata": {},
     "output_type": "execute_result"
    }
   ],
   "source": [
    "# Create a 4 x 4 array of random integers in the interval [5, 12)\n",
    "\n",
    "np.random.randint(5, 12, (4, 4))"
   ]
  },
  {
   "cell_type": "code",
   "execution_count": 26,
   "metadata": {},
   "outputs": [],
   "source": [
    "# Create an array filled with a linear sequence. The arange functions works like this: arange(start, stop, step)\n",
    "\n",
    "linear_array = np.arange(15)\n",
    "spaced_linear_array = np.arange(0, 20, 2)"
   ]
  },
  {
   "cell_type": "markdown",
   "metadata": {},
   "source": [
    "#### <u> Quick questions </u> \n",
    "\n",
    "> 1) Can you create an array of zeroes? Is there a NumPy function to do this? <br>\n",
    "> 2) Using Numpy functions, create a 3 dimensional array of random normally distributed values <br>\n",
    "> 3) Create an array of 8 values equally spaced between 0 and 2 <br>\n",
    "> 4) What uses can you think of for initialising an empty array? <br>\n",
    "> 5) Access the extended NumPy array docstring from the Jupyter Notebook. What information is included here? <br>\n",
    "> 6) Find out the standard Numpy data types. Which ones do you think are used most commonly?\n"
   ]
  },
  {
   "cell_type": "code",
   "execution_count": null,
   "metadata": {},
   "outputs": [],
   "source": []
  },
  {
   "cell_type": "code",
   "execution_count": null,
   "metadata": {},
   "outputs": [],
   "source": []
  },
  {
   "cell_type": "markdown",
   "metadata": {},
   "source": [
    "### <u> The Basics of NumPy Arrays </u> \n",
    "\n",
    "Most data manipulation is Python is done via NumPy. Even tools such as Pandas are built around using NumPy arrays. In this section we will cover a few catagories of basic array manipulation including: Indexing, Slicing, Attributes, Reshaping and Joining. "
   ]
  },
  {
   "cell_type": "markdown",
   "metadata": {},
   "source": [
    "#### <u> Array Indexing </u> \n",
    "\n",
    "Indexing involves getting and/or setting the value of an element in an array. In NumPy, indexing is very similar to that of the indexing carried out on normal Python lists. To access the ith element of an array (remembering Python counts from 0) the desired index is specified in square brackets.  "
   ]
  },
  {
   "cell_type": "code",
   "execution_count": 21,
   "metadata": {},
   "outputs": [
    {
     "name": "stdout",
     "output_type": "stream",
     "text": [
      "8\n"
     ]
    }
   ],
   "source": [
    "# Indexing is exactly the same as it is when indexing Python lists\n",
    "\n",
    "array_to_be_indexed = np.arange(0, 20, 2)\n",
    "print(array_to_be_indexed[4])"
   ]
  },
  {
   "cell_type": "code",
   "execution_count": 23,
   "metadata": {},
   "outputs": [
    {
     "name": "stdout",
     "output_type": "stream",
     "text": [
      "3\n"
     ]
    }
   ],
   "source": [
    "# Remember to index from the opposite end use a minus sign\n",
    "\n",
    "index_from_end = np.array([2, 4, 7, 3, 7])\n",
    "print(index_from_end[-2])"
   ]
  },
  {
   "cell_type": "markdown",
   "metadata": {},
   "source": [
    "#### <u> Performance example: computing the norm of a long vector </u> \n",
    "\n",
    "The norm of a vector $x$ is given by: \n",
    "\n",
    "$$\n",
    "\\| x \\| = \\sqrt{\\sum_{i=0}^{n-1} x_{i} x_{i}}\n",
    "$$\n",
    "\n",
    "where $x_{i}$ is the $i$th entry of $x$. It is the dot product of a vector with itself, \n",
    "followed by taking the square root.\n",
    "To compute the norm, we could loop/iterate over the entries of the vector and sum the square of each entry, and then take the square root of the result.\n",
    "\n",
    "We will evaluate the norm using two methods for computing the norm of an array of length 10 million to compare their performance. We first create a vector with 10 million random entries, using NumPy:"
   ]
  },
  {
   "cell_type": "code",
   "execution_count": 3,
   "metadata": {},
   "outputs": [
    {
     "name": "stdout",
     "output_type": "stream",
     "text": [
      "<class 'numpy.ndarray'>\n"
     ]
    }
   ],
   "source": [
    "# Create a NumPy array with 10 million random values\n",
    "x = np.random.rand(10000000)\n",
    "print(type(x))"
   ]
  },
  {
   "cell_type": "markdown",
   "metadata": {},
   "source": [
    "We now time how long it takes to compute the norm of the vector using the NumPy function '`numpy.dot`'. We use the Jupyter 'magic command' [`%time`](Notebook%20tips.ipynb#Simple-timing) to time the operation: "
   ]
  },
  {
   "cell_type": "code",
   "execution_count": 4,
   "metadata": {},
   "outputs": [
    {
     "name": "stdout",
     "output_type": "stream",
     "text": [
      "CPU times: user 19.7 ms, sys: 6.99 ms, total: 26.7 ms\n",
      "Wall time: 36.7 ms\n",
      "1825.984107874267\n"
     ]
    }
   ],
   "source": [
    "%time norm = np.sqrt(np.dot(x, x))\n",
    "print(norm)"
   ]
  },
  {
   "cell_type": "markdown",
   "metadata": {},
   "source": [
    "The time output of interest is '`Wall time`'.\n",
    "\n",
    "> The details of how `%time` works are not important for this course. We use it as a compact and covenient tool to \n",
    "> measure how much time a command takes to execute.\n",
    "\n",
    "We now perform the same operation with our own function for computing the norm:"
   ]
  },
  {
   "cell_type": "code",
   "execution_count": 6,
   "metadata": {},
   "outputs": [
    {
     "name": "stdout",
     "output_type": "stream",
     "text": [
      "CPU times: user 4.09 s, sys: 22.8 ms, total: 4.12 s\n",
      "Wall time: 4.15 s\n",
      "1825.9841078742058\n"
     ]
    }
   ],
   "source": [
    "def compute_norm(x):\n",
    "    norm = 0.0\n",
    "    for xi in x:\n",
    "        norm += xi*xi\n",
    "    return np.sqrt(norm)\n",
    "\n",
    "%time norm =compute_norm(x)\n",
    "print(norm)"
   ]
  },
  {
   "cell_type": "markdown",
   "metadata": {},
   "source": [
    "You should see that the two approaches give the same result, but the \n",
    "NumPy function is more than 100 times faster, and possibly more than 100,000 times faster!\n",
    "\n",
    "The message is that specialised functions and data structures for numerical computations can be many orders of magnitude faster than your own general implementations. On top of that, the specialised functions are much less \n",
    "likely to have bugs!"
   ]
  },
  {
   "cell_type": "markdown",
   "metadata": {},
   "source": [
    "#### <u> Quick questions </u> \n",
    "\n",
    "> 1) How would you access an item in a multidimensional array? Create some multidimensional arrays and access different items within them. <br>\n",
    "> 2) Can you modify some values in the above array? <br>\n",
    "> 3) What happens if you add a float into an integer array? Why could this be a problem?"
   ]
  },
  {
   "cell_type": "code",
   "execution_count": null,
   "metadata": {},
   "outputs": [],
   "source": []
  },
  {
   "cell_type": "code",
   "execution_count": null,
   "metadata": {},
   "outputs": [],
   "source": []
  },
  {
   "cell_type": "markdown",
   "metadata": {},
   "source": [
    "#### <u> Array Slicing </u> \n",
    "\n",
    "Slicing involves getting smaller arrays from larger arrays. Again, this works in exactly the same way as slicing does on Python lists. By using the semi-colon in the square brackets we can return any sub array we choose. The standard notation is x[start:stop:step]. "
   ]
  },
  {
   "cell_type": "code",
   "execution_count": 28,
   "metadata": {},
   "outputs": [
    {
     "data": {
      "text/plain": [
       "array([0, 1, 2, 3, 4, 5])"
      ]
     },
     "execution_count": 28,
     "metadata": {},
     "output_type": "execute_result"
    }
   ],
   "source": [
    "# We can find the first 6 elements of an array\n",
    "\n",
    "array_to_be_sliced = np.arange(20)\n",
    "\n",
    "array_to_be_sliced[0:6]"
   ]
  },
  {
   "cell_type": "code",
   "execution_count": 29,
   "metadata": {},
   "outputs": [
    {
     "data": {
      "text/plain": [
       "array([5, 6, 7, 8])"
      ]
     },
     "execution_count": 29,
     "metadata": {},
     "output_type": "execute_result"
    }
   ],
   "source": [
    "# Or we can find a middle slice\n",
    "\n",
    "array_to_be_sliced[5:9]"
   ]
  },
  {
   "cell_type": "code",
   "execution_count": 32,
   "metadata": {},
   "outputs": [
    {
     "name": "stdout",
     "output_type": "stream",
     "text": [
      "[1 2 3]\n"
     ]
    }
   ],
   "source": [
    "# We can even find the rows or columns of a multi dimensional array\n",
    "\n",
    "ndarray = np.array(([1,2,3], \n",
    "                    [7,8,9], \n",
    "                    [4,5,6]))\n",
    "\n",
    "first_col = ndarray[:, 0] # Returns the first column\n",
    "first_row = ndarray[0,:] # Returns the first row\n",
    "\n",
    "print(first_col)\n",
    "print(first_row)"
   ]
  },
  {
   "cell_type": "markdown",
   "metadata": {},
   "source": [
    "#### <u> Quick questions </u>\n",
    "\n",
    "> 1) What happens if you dont specify a value when slicing? What happens if you dont specify multiple values? What are the defaults? <br>\n",
    "> 2) Can you reverse the direction of an array? (Hint: Remember that the index -1 is the last value of your array) <br>\n",
    "> 3) How would you slice a multidimensional array?"
   ]
  },
  {
   "cell_type": "code",
   "execution_count": null,
   "metadata": {},
   "outputs": [],
   "source": []
  },
  {
   "cell_type": "code",
   "execution_count": 36,
   "metadata": {},
   "outputs": [
    {
     "data": {
      "text/plain": [
       "3"
      ]
     },
     "execution_count": 36,
     "metadata": {},
     "output_type": "execute_result"
    }
   ],
   "source": []
  },
  {
   "cell_type": "markdown",
   "metadata": {},
   "source": [
    "#### <u> Array Attributes </u> \n",
    "\n",
    "The attributes of an array refer to its size and shape, the amount of space it takes in memory and the types of data it contains.\n",
    "\n",
    "To illustrate the different attributes of arrays we can look at a one, two and three dimentional array. "
   ]
  },
  {
   "cell_type": "markdown",
   "metadata": {},
   "source": [
    "#### <u> n dimensional arrays </u> \n",
    "\n",
    "A one-dimensional array is a collection of numbers which we can access by index (it preserves order).\n",
    "\n",
    "Two-dimensional arrays are very useful for arranging data in many engineering applications and for performing mathematical operations. Commonly, 2D arrays are used to represents matrices. "
   ]
  },
  {
   "cell_type": "code",
   "execution_count": 51,
   "metadata": {},
   "outputs": [],
   "source": [
    "# We can use NumPys random number generator, seeded with a set value, so that the same random arrays are generated\n",
    "# each time.\n",
    "\n",
    "np.random.seed(5) \n",
    "\n",
    "array1 = np.random.randint(15, size = 5) # 1D array\n",
    "array2 = np.random.randint(15, size = (5, 6)) # 2D array\n",
    "array3 = np.random.randint(15, size = (5, 6, 7)) # 3D array"
   ]
  },
  {
   "cell_type": "code",
   "execution_count": 47,
   "metadata": {},
   "outputs": [
    {
     "name": "stdout",
     "output_type": "stream",
     "text": [
      "Array 1 has 1 dimension\n",
      "Array 2 has 2 dimensions\n",
      "Array 3 has 3 dimensions\n"
     ]
    }
   ],
   "source": [
    "# We can find the attribute 'ndim' (the number of dimensions) quite easily\n",
    "\n",
    "print('Array 1 has', array1.ndim, 'dimension')\n",
    "print('Array 2 has', array2.ndim, 'dimensions')\n",
    "print('Array 3 has', array3.ndim, 'dimensions')"
   ]
  },
  {
   "cell_type": "code",
   "execution_count": 52,
   "metadata": {},
   "outputs": [
    {
     "name": "stdout",
     "output_type": "stream",
     "text": [
      "Array 1s data type is:  int64\n",
      "Array 2s data type is:  int64\n",
      "Array 3s data type is:  int64\n"
     ]
    }
   ],
   "source": [
    "# Finding the data type is also trivial \n",
    "\n",
    "print('Array 1s data type is: ', array1.dtype)\n",
    "print('Array 2s data type is: ', array2.dtype)\n",
    "print('Array 3s data type is: ', array3.dtype)"
   ]
  },
  {
   "cell_type": "code",
   "execution_count": 132,
   "metadata": {},
   "outputs": [
    {
     "name": "stdout",
     "output_type": "stream",
     "text": [
      "Array 1s shape is:  (5,)\n",
      "Array 2s shape is:  (5, 6)\n",
      "Array 3s shape is:  (5, 6, 7)\n"
     ]
    }
   ],
   "source": [
    "# Finding the shape is also easy\n",
    "\n",
    "print('Array 1s shape is: ', array1.shape)\n",
    "print('Array 2s shape is: ', array2.shape)\n",
    "print('Array 3s shape is: ', array3.shape)"
   ]
  },
  {
   "cell_type": "markdown",
   "metadata": {},
   "source": [
    "#### <u> Quick questions </u>\n",
    "\n",
    "> 1) Research what other attributes there are. In what situations would they be useful?\n"
   ]
  },
  {
   "cell_type": "code",
   "execution_count": null,
   "metadata": {},
   "outputs": [],
   "source": []
  },
  {
   "cell_type": "code",
   "execution_count": null,
   "metadata": {},
   "outputs": [],
   "source": []
  },
  {
   "cell_type": "markdown",
   "metadata": {},
   "source": [
    "### <u> 2D array (matrix) operations </u>\n",
    "\n",
    "For those who have seen matrices previously, the operations in this section will be familiar. For those who have not encountered matrices, you might want to revisit this section once matrices have been covered in the mathematics lectures."
   ]
  },
  {
   "cell_type": "markdown",
   "metadata": {},
   "source": [
    "#### <u> Matrix-vector and matrix-matrix multiplication </u>\n",
    "\n",
    "Consider the matrix $A$:\n",
    "\n",
    "$$\n",
    "A  = \n",
    "\\begin{bmatrix}\n",
    "3.4 & 2.6 \\\\\n",
    "2.1 & 4.5\n",
    "\\end{bmatrix}\n",
    "$$\n",
    "\n",
    "and the vector $x$:\n",
    "\n",
    "$$\n",
    "x  = \n",
    "\\begin{bmatrix}\n",
    "0.2 \\\\ -1.1\n",
    "\\end{bmatrix}\n",
    "$$"
   ]
  },
  {
   "cell_type": "code",
   "execution_count": 7,
   "metadata": {},
   "outputs": [
    {
     "name": "stdout",
     "output_type": "stream",
     "text": [
      "Matrix A:\n",
      " [[3.4 2.6]\n",
      " [2.1 4.5]]\n",
      "Vector x:\n",
      " [ 0.2 -1.1]\n"
     ]
    }
   ],
   "source": [
    "A = np.array([[3.4, 2.6], [2.1, 4.5]])\n",
    "print(\"Matrix A:\\n {}\".format(A))\n",
    "\n",
    "x = np.array([0.2, -1.1])\n",
    "print(\"Vector x:\\n {}\".format(x))"
   ]
  },
  {
   "cell_type": "markdown",
   "metadata": {},
   "source": [
    "We can compute the matrix-vector product $y = Ax$ by:"
   ]
  },
  {
   "cell_type": "code",
   "execution_count": null,
   "metadata": {},
   "outputs": [],
   "source": [
    "y = A.dot(x)\n",
    "print(y)"
   ]
  },
  {
   "cell_type": "markdown",
   "metadata": {},
   "source": [
    "Matrix-matrix multiplication is performed similarly. Computing $C = AB$, where $A$, $B$, and $C$ are all matrices:"
   ]
  },
  {
   "cell_type": "code",
   "execution_count": 8,
   "metadata": {},
   "outputs": [
    {
     "name": "stdout",
     "output_type": "stream",
     "text": [
      "[[4.42 5.2 ]\n",
      " [2.73 9.  ]]\n"
     ]
    }
   ],
   "source": [
    "B = np.array([[1.3, 0], [0, 2.0]])\n",
    "\n",
    "C = A.dot(B)\n",
    "print(C)"
   ]
  },
  {
   "cell_type": "markdown",
   "metadata": {},
   "source": [
    "The inverse of a matrix ($A^{-1}$) and the determinant ($\\det(A)$) can be computed using functions in the NumPy submodule `linalg`:"
   ]
  },
  {
   "cell_type": "code",
   "execution_count": 9,
   "metadata": {},
   "outputs": [
    {
     "name": "stdout",
     "output_type": "stream",
     "text": [
      "Inverse of A:\n",
      " [[ 0.45731707 -0.26422764]\n",
      " [-0.21341463  0.34552846]]\n",
      "Determinant of A: 9.839999999999998\n"
     ]
    }
   ],
   "source": [
    "Ainv = np.linalg.inv(A)\n",
    "print(\"Inverse of A:\\n {}\".format(Ainv))\n",
    "\n",
    "Adet = np.linalg.det(A)\n",
    "print(\"Determinant of A: {}\".format(Adet))"
   ]
  },
  {
   "cell_type": "markdown",
   "metadata": {},
   "source": [
    "NumPy is large library, so it uses sub-modules to arrange functionality.\n",
    "\n",
    "A very common matrix is the *identity matrix* $I$. We can create a $4 \\times 4$ identity matrix using:"
   ]
  },
  {
   "cell_type": "markdown",
   "metadata": {},
   "source": [
    "I = np.eye(4)\n",
    "print(I)"
   ]
  },
  {
   "cell_type": "markdown",
   "metadata": {},
   "source": [
    "#### <u> Array Reshaping, joining and splitting </u>\n",
    "\n",
    "It is sometimes very important to change the shape on an array. The 'reshape()' method makes it very easy to do. It can also be very useful to join or split up an array depending on what it is you are doing. We present some common methods here to achieve all of the above, however this list is by no means exhaustive."
   ]
  },
  {
   "cell_type": "code",
   "execution_count": 70,
   "metadata": {},
   "outputs": [
    {
     "name": "stdout",
     "output_type": "stream",
     "text": [
      "[0 1 2 3 4 5 6 7 8] 1\n",
      "[[0 1 2]\n",
      " [3 4 5]\n",
      " [6 7 8]] 2\n"
     ]
    }
   ],
   "source": [
    "# Here we reshape our 1D array into a 3x3 matrix. Notice how because reshape is a method, it is called after the \n",
    "# object we want to reshape\n",
    "\n",
    "our_1D_array = np.arange(9)\n",
    "our_2D_reshaped_matrix = our_1D_array.reshape(3,3)\n",
    "\n",
    "print(our_1D_array, our_1D_array.ndim)\n",
    "print(our_2D_reshaped_matrix, our_2D_reshaped_matrix.ndim)"
   ]
  },
  {
   "cell_type": "code",
   "execution_count": 71,
   "metadata": {},
   "outputs": [
    {
     "name": "stdout",
     "output_type": "stream",
     "text": [
      "[ 1  2  3  6 32  6]\n"
     ]
    }
   ],
   "source": [
    "# To join two arrays we can use the concatenate routine\n",
    "\n",
    "x = np.array([1, 2, 3])\n",
    "y = np.array([6, 32, 6])\n",
    "\n",
    "z = np.concatenate([x,y])\n",
    "print(z)"
   ]
  },
  {
   "cell_type": "code",
   "execution_count": 72,
   "metadata": {},
   "outputs": [
    {
     "name": "stdout",
     "output_type": "stream",
     "text": [
      "[1 2 3] [] [ 6 32  6]\n"
     ]
    }
   ],
   "source": [
    "# To split two arrays we can use the split routine\n",
    "\n",
    "z_split1, z_split2, z_split3 = np.split(z, [3, 3])\n",
    "print(z_split1, z_split2, z_split3)"
   ]
  },
  {
   "cell_type": "markdown",
   "metadata": {},
   "source": [
    "#### <u> Quick questions </u>\n",
    "\n",
    "> 1) Look up the 'newaxis' keyword. Use it to reshape some of the above arrays <br>\n",
    "> 2) Look up vstack and hstack. How do these routines differ from the concatenate routine we have given in the example? <br>\n",
    "> 3) Look up hsplit and vsplit. How do these routines differ from the split routine presented in the example\n"
   ]
  },
  {
   "cell_type": "code",
   "execution_count": null,
   "metadata": {},
   "outputs": [],
   "source": []
  },
  {
   "cell_type": "code",
   "execution_count": null,
   "metadata": {},
   "outputs": [],
   "source": []
  },
  {
   "cell_type": "markdown",
   "metadata": {},
   "source": [
    "#### <u> Computations on NumPy arrays  </u>\n",
    "\n",
    "In this section we will whizz through some common mathematical procedures that you can carry out on NumPy arrays. They all come under the banner of Universal Functions, or UFuncs. UFuncs rely on 'vectorised' operations, instead of loops, are one of the reasons that NumPy is so fast. This level of detail is slightly outside the scope of this course, so feel free to look it up further here: https://numpy.org/devdocs/reference/ufuncs.html"
   ]
  },
  {
   "cell_type": "code",
   "execution_count": 87,
   "metadata": {},
   "outputs": [],
   "source": [
    "example1 = np.array([5, 10, 15])\n",
    "example2 = np.array([3, 6, 9])"
   ]
  },
  {
   "cell_type": "markdown",
   "metadata": {},
   "source": [
    "Here we look at the arithmetic operators that are available through NumPy. They will feel familiar to you as they\n",
    "are broadly similar to that which we have seen previously in Module 2. "
   ]
  },
  {
   "cell_type": "code",
   "execution_count": 106,
   "metadata": {},
   "outputs": [],
   "source": [
    "# Each of these pairs of arithmetic functions return the same result. The operator is always given first, with \n",
    "# the equivalent UFunc coming second.\n",
    "\n",
    "addition = example1 + example2\n",
    "addition1 = np.add(example1, example2)\n",
    "\n",
    "subtraction = example1 - example2\n",
    "subtraction1 = np.subtract(example1, example2)\n",
    "\n",
    "negation = np.negative(example1)\n",
    "\n",
    "multiplication = example1 * example2\n",
    "multiplication1 = np.multiply(example1, example2)\n",
    "\n",
    "division = example1 / example2\n",
    "division1 = np.divide(example1, example2)\n",
    "\n",
    "floor_divide = example1 // example2\n",
    "floor_divide1 = np.floor_divide(example1, example2)\n",
    "\n",
    "power = example1 ** example2\n",
    "power1 = np.power(example1, example2)\n",
    "\n",
    "mod = example1 % example2\n",
    "mod1 = np.mod(example1, example2)"
   ]
  },
  {
   "cell_type": "code",
   "execution_count": 138,
   "metadata": {},
   "outputs": [
    {
     "name": "stdout",
     "output_type": "stream",
     "text": [
      "\n"
     ]
    }
   ],
   "source": [
    "print() # print some of the above examples to see the results"
   ]
  },
  {
   "cell_type": "markdown",
   "metadata": {},
   "source": [
    "Here we will look at some of the more useful aggregation functions available in NumPy. Most aggregation functions in NumPy also have a NaN safe counterpart. This will compute the value and ignore any missing values."
   ]
  },
  {
   "cell_type": "code",
   "execution_count": 112,
   "metadata": {},
   "outputs": [],
   "source": [
    "example3 = np.array([10, 20, 30, 40])"
   ]
  },
  {
   "cell_type": "code",
   "execution_count": 130,
   "metadata": {},
   "outputs": [],
   "source": [
    "# Try entering sum of these examples into the print function below to see the outputs\n",
    "\n",
    "_sum = np.sum(example3)\n",
    "product = np.prod(example3)\n",
    "mean = np.mean(example3)\n",
    "std_dev = np.std(example3)\n",
    "variance = np.var(example3)\n",
    "_min = np.min(example3)\n",
    "_max = np.max(example3)\n",
    "minimum_index = np.argmin(example3)\n",
    "maximum_index = np.argmax(example3)\n",
    "median = np.median(example3)\n",
    "\n",
    "\n"
   ]
  },
  {
   "cell_type": "code",
   "execution_count": 129,
   "metadata": {},
   "outputs": [
    {
     "name": "stdout",
     "output_type": "stream",
     "text": [
      "3\n"
     ]
    }
   ],
   "source": [
    "print()"
   ]
  },
  {
   "cell_type": "markdown",
   "metadata": {},
   "source": [
    "And finally here we look at some of the boolean operators that NumPy can carry out."
   ]
  },
  {
   "cell_type": "code",
   "execution_count": 147,
   "metadata": {},
   "outputs": [],
   "source": [
    "# Each of these pairs of booleans return the same result. The operator is always given first, with \n",
    "# the equivalent UFunc coming second\n",
    "\n",
    "equal = example1 == example2\n",
    "equal1 = np.equal(example1, example2)\n",
    "\n",
    "not_equal = example1 != example2\n",
    "not_equal1 = np.not_equal(example1, example2)\n",
    "\n",
    "less = example1 < example2\n",
    "less1 = np.less(example1, example2)\n",
    "\n",
    "less_equal = example1 <= example2\n",
    "less_equal1 = np.less_equal(example1, example2)\n",
    "\n",
    "greater = example1 > example2\n",
    "greater1 = np.greater(example1, example2)\n",
    "\n",
    "greater_equal = example1 >= example2\n",
    "greater_equal1 = np.greater_equal(example1, example2)"
   ]
  },
  {
   "cell_type": "code",
   "execution_count": 149,
   "metadata": {},
   "outputs": [
    {
     "name": "stdout",
     "output_type": "stream",
     "text": [
      "\n"
     ]
    }
   ],
   "source": [
    "print()"
   ]
  },
  {
   "cell_type": "markdown",
   "metadata": {},
   "source": [
    "#### <u> Quick questions </u>\n",
    "\n",
    "> 1) Given how straighforward the arithmetic functiond were, can you guess what the trigonometric functions are?<br>\n",
    "> 2) Try out these trigonemetric functions <br>\n",
    "> 3) Have a practise with some exponent and logarithmic functions <br>\n",
    "> 4) Try out some of the NaN safe aggregation functions. Why is it important that these functions exist? <br>\n",
    "> 5) Why is that some of the variable names for the aggregation functions start with a _. For example the variable name for np.min is _min, not min."
   ]
  },
  {
   "cell_type": "code",
   "execution_count": null,
   "metadata": {},
   "outputs": [],
   "source": []
  },
  {
   "cell_type": "code",
   "execution_count": null,
   "metadata": {},
   "outputs": [],
   "source": []
  },
  {
   "cell_type": "markdown",
   "metadata": {},
   "source": [
    "#### <u> Broadcasting  </u>\n",
    "\n",
    "We need to be careful when performing arithmetic operations on n-dimensional arrays of different shapes and sizes. So far we have only seen operations performed on an element by element basis, but broadcasting allows these same operations to be performed on arrays of different sizes. Think, for example, of adding a scalar to an array."
   ]
  },
  {
   "cell_type": "code",
   "execution_count": 133,
   "metadata": {},
   "outputs": [
    {
     "name": "stdout",
     "output_type": "stream",
     "text": [
      "[5 6 7]\n"
     ]
    }
   ],
   "source": [
    "# In this example 5 has been added to each index of the array. \n",
    "\n",
    "a = np.array([0, 1, 2])\n",
    "print(a + 5)"
   ]
  },
  {
   "cell_type": "markdown",
   "metadata": {},
   "source": [
    "We can also see examples of this in higher dimensions"
   ]
  },
  {
   "cell_type": "code",
   "execution_count": 137,
   "metadata": {},
   "outputs": [
    {
     "name": "stdout",
     "output_type": "stream",
     "text": [
      "[[1. 1. 1.]\n",
      " [1. 1. 1.]\n",
      " [1. 1. 1.]]\n",
      "\n",
      "[[3. 4. 5.]\n",
      " [3. 4. 5.]\n",
      " [3. 4. 5.]]\n"
     ]
    }
   ],
   "source": [
    "# Here we add a 1D array to a 2D array. \n",
    "\n",
    "b = np.array([2, 3, 4])\n",
    "matrix_of_ones = np.ones((3,3)) # We set it as a 2D 3 by 3 matrix\n",
    "\n",
    "print(matrix_of_ones)\n",
    "print('') # Added to space out the two matrices when printed to screen\n",
    "print(matrix_of_ones + b)"
   ]
  },
  {
   "cell_type": "markdown",
   "metadata": {},
   "source": [
    "#### <u> Rules of Broadcasting  </u>\n",
    "\n",
    "Broadcasting in NumPy follows strict rules:\n",
    "\n",
    "> 1) If the two arrays have a different number of dimensions, the shape of the one with fewer dimensions is padded with ones on its leading (left) side <br>\n",
    "> 2) If the shape of the two arrays doesn't match in any dimension, then the array with shape 1 in that dimension is stretched to match the other shape <br>\n",
    "> 3) If, in any dimension, the sizes disagree and neither is equal to 1, an error is raised"
   ]
  },
  {
   "cell_type": "markdown",
   "metadata": {},
   "source": [
    "#### <u> Quick questions </u> \n",
    "\n",
    "> 1) Produce some arrays that cannot be broadcast together and study the error message that is returned. \n"
   ]
  },
  {
   "cell_type": "markdown",
   "metadata": {},
   "source": [
    "### <u> Congratulations </u>\n",
    "\n",
    "You are now all set for using NumPy!"
   ]
  },
  {
   "cell_type": "code",
   "execution_count": null,
   "metadata": {},
   "outputs": [],
   "source": []
  }
 ],
 "metadata": {
  "kernelspec": {
   "display_name": "Python 3.6.10 64-bit ('Programming_Course': conda)",
   "language": "python",
   "name": "python361064bitprogrammingcoursecondaace16560e79143c0970c9541d83dfbe5"
  },
  "language_info": {
   "codemirror_mode": {
    "name": "ipython",
    "version": 3
   },
   "file_extension": ".py",
   "mimetype": "text/x-python",
   "name": "python",
   "nbconvert_exporter": "python",
   "pygments_lexer": "ipython3",
   "version": "3.6.10"
  }
 },
 "nbformat": 4,
 "nbformat_minor": 2
}
