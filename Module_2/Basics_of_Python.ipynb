{
 "cells": [
  {
   "cell_type": "markdown",
   "metadata": {},
   "source": [
    "# Module 2 - The Basics of Python"
   ]
  },
  {
   "cell_type": "markdown",
   "metadata": {},
   "source": [
    "## What is Python\n",
    "\n",
    "Python is an interpreted, object-oriented, high-level programming language with dynamic semantics. Python's simple, easy to learn syntax emphasizes readability and therefore makes it a very easy language to adopt. Python supports modules and packages, which encourages program modularity and code reuse. On top of all this the Python interpreter, and the extensive standard library, are available in source without charge for all major platforms.\n",
    "\n",
    "\n",
    "\n"
   ]
  },
  {
   "cell_type": "markdown",
   "metadata": {},
   "source": [
    "## The Zen of Python\n",
    "\n",
    "The Zen of Python details the languages core philosophies, or guiding principles. Press the play button, or press 'shift+enter', to execute the following piece of code and see the Zen of Python"
   ]
  },
  {
   "cell_type": "code",
   "execution_count": 1,
   "metadata": {},
   "outputs": [
    {
     "name": "stdout",
     "output_type": "stream",
     "text": [
      "The Zen of Python, by Tim Peters\n",
      "\n",
      "Beautiful is better than ugly.\n",
      "Explicit is better than implicit.\n",
      "Simple is better than complex.\n",
      "Complex is better than complicated.\n",
      "Flat is better than nested.\n",
      "Sparse is better than dense.\n",
      "Readability counts.\n",
      "Special cases aren't special enough to break the rules.\n",
      "Although practicality beats purity.\n",
      "Errors should never pass silently.\n",
      "Unless explicitly silenced.\n",
      "In the face of ambiguity, refuse the temptation to guess.\n",
      "There should be one-- and preferably only one --obvious way to do it.\n",
      "Although that way may not be obvious at first unless you're Dutch.\n",
      "Now is better than never.\n",
      "Although never is often better than *right* now.\n",
      "If the implementation is hard to explain, it's a bad idea.\n",
      "If the implementation is easy to explain, it may be a good idea.\n",
      "Namespaces are one honking great idea -- let's do more of those!\n"
     ]
    }
   ],
   "source": [
    "import this"
   ]
  },
  {
   "cell_type": "markdown",
   "metadata": {},
   "source": [
    "\n",
    "\n",
    "\n"
   ]
  },
  {
   "cell_type": "markdown",
   "metadata": {},
   "source": [
    "##  Glossary of terms \n",
    "\n",
    "Here we list some common constructs and datatypes, along with some other useful definitions, that you will need day to day for Python programming. A quick description of each is given with interactive examples coming later on in the Notebook.\n",
    "\n",
    "#### <u> White space formatting </u>\n",
    "\n",
    "Many languages use curly braces to delimit blocks of code however Python uses indetation, or whitespace. This make Python code extremelly readable however you must take care with formatting.\n",
    "\n",
    "\n",
    "#### <u> Functions </u>\n",
    "\n",
    "A Python function is a sequence of statements in a certain order, given a name. When called, those statements are executed returning the corresponding output. \n",
    "\n",
    "#### <u> Classes </u>\n",
    "\n",
    "As Python is object oriented it supports classes and objects. A class can be thought of as a blueprint for an object fo a certain kind. As it is an abestract data type it doesn't hold any values. An object is an instance of a class.\n",
    "\n",
    "#### <u> Modules </u>\n",
    "\n",
    "A module is a collection of related classes and functions. There are modules for mathematical calculations, string manipulations, web programming, and many more uses. This is because certain features of Python are not loaded by default. This includes both features that are part of the Python programming language and those that are developed by third parties.\n",
    "\n",
    "#### <u> Packages </u>\n",
    "\n",
    "Python package is a collection of related modules. You can either import a package or create your own.\n",
    "\n",
    "#### <u> Lists </u>\n",
    "\n",
    "Lists are one of the most fundamental data structures in Python. A list is an ordered collection of values seperated by commas. It can contain different datatypes in the same list, Python doesn't need the data type to be declared.\n",
    "\n",
    "#### <u> Tuple </u>\n",
    "\n",
    "A Tuple is very similar to a list apart from it's contents cannot be changed - its immutable\n",
    "\n",
    "#### <u> Dictionary </u>\n",
    "\n",
    "A dictionary is another fundamental data structure in Python. It is a collection of key-value pairs and provides a mapping between the key and the value.\n",
    "\n",
    "#### <u> Comments and Docstrings </u>\n",
    "\n",
    "A Python comment is denoted with # and is used to write things in the code that you don't want to be executed. Well commented code is essential for adding in readability and understanding for yourself or someone else who tries to use you code in the future. A docsting is similar and is denoted with \"\"\" (your text here) \"\"\". These are also used to help explain the code.\n",
    "\n",
    "#### <u> Objects </u>\n",
    "\n",
    "Objects are Python’s abstraction for data. All data in a Python program is represented by objects or by relations between objects.\n",
    "\n",
    "#### <u> Strings </u>\n",
    "\n",
    "A string in Python is a sequence of characters. Strings are immutable meaning that once defined, they cannot be changed. The only way to modify a string is to create a copy of a which is modified.\n",
    "\n",
    "#### <u> Exceptions </u>\n",
    "\n",
    "If the code you have just executed encounters a problem, Python will raise an exception. This will usually be in the form of an Error message, informing you of what has gone wrong.\n",
    "\n",
    "#### <u> Sets </u>\n",
    "\n",
    "Sets are another standard data type in Python, and represent a collection of distinct elements. They are similar to lists and tuples, however, as they represent distinct elemets they cannot have multiple occurrences of the same element. Sets are also unordered. \n",
    "\n",
    "#### <u> Iterables/Generators </u>\n",
    "\n",
    "An iterable is any Python object capable of returning its members one at a time. Common instances of iterables are lists, tuples and strings. A generator is something that can create an iterator, they are simple functions which return iterabel sets of items one at a time.\n",
    "\n",
    "#### <u> args and kwargs </u>\n",
    "\n",
    "*args and **kwargs allow you to pass multiple arguments or keyword arguments to a function."
   ]
  },
  {
   "cell_type": "markdown",
   "metadata": {},
   "source": [
    "## Fundamentals of Python\n",
    "\n",
    "This section describes some of the fundamentals of programming with Python. It will cover code blocks, indentation, comments, variables and operators. \n",
    "\n"
   ]
  },
  {
   "cell_type": "markdown",
   "metadata": {},
   "source": [
    "### Typing things in\n",
    "\n",
    "Computers will only do what you tell them, and they often take things very literally.\n",
    "Python relies completely on things like the placement of commas and parentheses so it knows whats going on. It is not very good at figuring out what you mean, therefore being precise is extremelly important. Getting the parentheses and commas in the right places can be really fraustrating to begin with but\n",
    "after a while it will become more natural. Still, even after you’ve programmed for a long time, you\n",
    "will still miss something. If something isn't working its always worthwhile checking the small things first. Fortunately however, Python is pretty good about helping you find\n",
    "your mistakes."
   ]
  },
  {
   "cell_type": "markdown",
   "metadata": {},
   "source": [
    "#### <u> Case </u>\n",
    "\n",
    "Case matters. To Python, print, Print, and PRINT are all different things. For now, stick\n",
    "with lowercase as most Python statements are in lowercase."
   ]
  },
  {
   "cell_type": "markdown",
   "metadata": {},
   "source": [
    "#### <u> Space </u>\n",
    "\n",
    "Spaces matter at the beginning of lines, but not elsewhere. See the examples below."
   ]
  },
  {
   "cell_type": "markdown",
   "metadata": {},
   "source": [
    "### Code Blocks and Indentation\n",
    "\n",
    "One of the most distinctive features of Python is its use of indentation to mark blocks of code. Indentation is a very important concept because without it, code will not compile resulting in programmes not running.\n",
    "\n",
    "In simple terms indentation refers to adding white space before a statement. All statements with the same distance to the right belong to the same block of code. If a block has to be more deeply nested, it is simply indented further to the right. You can understand it better by looking at the following lines of code.\n",
    "\n",
    "Below are some code blocks. The first allows you to specify which programming language you think is best. The second code block tells you whether or not you've made a good choice. \n",
    "\n",
    "The two blocks of code in our example if-statement are both indented four spaces. The final print(‘Done’) is not indented, and so it does not belong to the else-block.\n",
    " "
   ]
  },
  {
   "cell_type": "code",
   "execution_count": 2,
   "metadata": {},
   "outputs": [
    {
     "name": "stdout",
     "output_type": "stream",
     "text": [
      "Bad choice!\n",
      "Done\n"
     ]
    }
   ],
   "source": [
    "# Write the programming language you think is best inside the quotation marks. To exectue the cell press the \n",
    "# green play button or alternatively press 'shift+enter'\n",
    "\n",
    "programming_language = ''\n",
    "\n",
    "if programming_language == 'Python':\n",
    "\n",
    "    print('Good choice!')\n",
    "\n",
    "else:\n",
    "\n",
    "    print('Bad choice!')\n",
    "\n",
    "print('Done')"
   ]
  },
  {
   "cell_type": "markdown",
   "metadata": {},
   "source": [
    "### Python Comments\n",
    "\n",
    "Comments are useful information that the developers provide to make the reader understand the source code. It explains the logic or a part of it used in the code. There are two types of comment in Python: Single line and multi-line. "
   ]
  },
  {
   "cell_type": "code",
   "execution_count": 20,
   "metadata": {},
   "outputs": [
    {
     "data": {
      "text/plain": [
       "'\\nA mutliline comment can span several lines.\\nIt is mainly used for explaining code that requires more detail. These comments are encapsulated with two sets \\nof three quotation marks\\n'"
      ]
     },
     "execution_count": 20,
     "metadata": {},
     "output_type": "execute_result"
    }
   ],
   "source": [
    "# A single line comment starts with a hashtag and has no white space. It is usually used for describing what a \n",
    "# single line of code does\n",
    "\n",
    "\"\"\"\n",
    "A mutliline comment can span several lines.\n",
    "It is mainly used for explaining code that requires more detail. These comments are encapsulated with two sets \n",
    "of three quotation marks\n",
    "\"\"\" "
   ]
  },
  {
   "cell_type": "markdown",
   "metadata": {},
   "source": [
    "Comments are used extensively through the next few sections to highlight what is going on in the code. This is exactly how they would be used in 'real life'."
   ]
  },
  {
   "cell_type": "markdown",
   "metadata": {},
   "source": [
    "### Python Variables\n",
    "\n",
    "Python is a strongly dynamically-typed language. This means the variable assignment is different to that of other languages. There is no need to declare that a variable is variable, in Python this is done under the hood. It doesn't know what the variable type is until the code is ran. Therefore a variable is created once a value is assigned to it.\n",
    "\n",
    "A variable is a container for a value, or more specifically it is a label given to a certain location in your computers memory. It can be assigned a name so you can refer to it later in the program. Based on the value assigned, the interpreter then decides its data type (string, integer, float etc). To create a new Python variable, you simply use the assignment operator (=) and assign a value. This will initialise the variable.\n",
    "\n",
    "\n",
    "There are a few rules for creating variables:\n",
    "\n",
    "- A variable name must start with a letter or the underscore character.\n",
    "- A variable name cannot start with a number.\n",
    "- A variable name can only contain alpha-numeric characters and underscores (A-z, 0-9, and _ ).\n",
    "- Variable names are case-sensitive (name, Name and NAME are three different variables).\n",
    "- The reserved words(keywords) cannot be used naming the variable.\n",
    "- Different variables must have different names\n"
   ]
  },
  {
   "cell_type": "markdown",
   "metadata": {},
   "source": [
    "#### <u> Naming variables </u>\n",
    "\n",
    "It is good practice to use meaningful variable names in a computer program. Say you used  '`x`' for time, and '`t`' for position, you or someone else will almost certainly make errors at some point.\n",
    "If you do not use well-considered variable names:\n",
    "\n",
    "1. You're much more likely to make errors.\n",
    "1. When you come back to your program after some time you will have trouble recalling and understanding \n",
    "   what the program does.\n",
    "1. It will be difficult for others to understand your program - serious program development is almost always a team effort.\n",
    "\n",
    "Languages have rules for what charcters can be used in variable names. As a rough guide, in Python variable names can use letters and digits, but cannot start with a digit.\n",
    "\n",
    "Sometimes for readability it is useful to have variable names that are made up of two words. A convention is\n",
    "to separate the words in the variable name using an underscore '`_`'. For example, a good variable name for storing the number of days would be \n",
    "```python\n",
    "num_days = 10\n",
    "```\n",
    "Python is a case-sensitive language, e.g. the variables '`A`' and '`a`' are different.\n",
    "\n",
    "Languages have reserved keywords that cannot be used as variable names as they are used for other purposes. The reserved keywords in Python are:"
   ]
  },
  {
   "cell_type": "code",
   "execution_count": 22,
   "metadata": {},
   "outputs": [
    {
     "name": "stdout",
     "output_type": "stream",
     "text": [
      "['False', 'None', 'True', 'and', 'as', 'assert', 'break', 'class', 'continue', 'def', 'del', 'elif', 'else', 'except', 'finally', 'for', 'from', 'global', 'if', 'import', 'in', 'is', 'lambda', 'nonlocal', 'not', 'or', 'pass', 'raise', 'return', 'try', 'while', 'with', 'yield']\n"
     ]
    }
   ],
   "source": [
    "import keyword\n",
    "print(keyword.kwlist)"
   ]
  },
  {
   "cell_type": "code",
   "execution_count": 4,
   "metadata": {},
   "outputs": [
    {
     "name": "stdout",
     "output_type": "stream",
     "text": [
      "27\n",
      "35.982\n",
      "Danny\n"
     ]
    }
   ],
   "source": [
    "# An integer assignment \n",
    "number = 27                      \n",
    "  \n",
    "# Floating point assignment \n",
    "score = 35.982           \n",
    "  \n",
    "# A string (jumble of letters)  \n",
    "name = \"Danny\"              \n",
    "  \n",
    "print(number) \n",
    "print(score) \n",
    "print(name) "
   ]
  },
  {
   "cell_type": "markdown",
   "metadata": {},
   "source": [
    "Python also allows you to assign a single value to multiple variables."
   ]
  },
  {
   "cell_type": "code",
   "execution_count": 5,
   "metadata": {},
   "outputs": [
    {
     "name": "stdout",
     "output_type": "stream",
     "text": [
      "100\n",
      "100\n",
      "100\n"
     ]
    }
   ],
   "source": [
    "a = b = c = 100\n",
    "\n",
    "print(a)\n",
    "print(b)\n",
    "print(c)"
   ]
  },
  {
   "cell_type": "code",
   "execution_count": 6,
   "metadata": {},
   "outputs": [
    {
     "name": "stdout",
     "output_type": "stream",
     "text": [
      "35 42.982 Dyer\n"
     ]
    }
   ],
   "source": [
    "new_number, new_score, new_name = 35, 42.982, 'Dyer'\n",
    "\n",
    "print(new_number, new_score, new_name)"
   ]
  },
  {
   "cell_type": "markdown",
   "metadata": {},
   "source": [
    "We can also swap variables to interchange values. This is very easy in Python."
   ]
  },
  {
   "cell_type": "code",
   "execution_count": 7,
   "metadata": {},
   "outputs": [
    {
     "name": "stdout",
     "output_type": "stream",
     "text": [
      "Java Python\n"
     ]
    }
   ],
   "source": [
    "first, second = 'Python', 'Java'\n",
    "\n",
    "first, second = second, first \n",
    "\n",
    "print(first, second)"
   ]
  },
  {
   "cell_type": "markdown",
   "metadata": {},
   "source": [
    "And finally, deleting a variable. Below, the variable named 'second' is deleted. When called to print an error message is shown telling us that 'second' is no longer defined."
   ]
  },
  {
   "cell_type": "code",
   "execution_count": 8,
   "metadata": {},
   "outputs": [
    {
     "ename": "NameError",
     "evalue": "name 'second' is not defined",
     "output_type": "error",
     "traceback": [
      "\u001b[0;31m---------------------------------------------------------------------------\u001b[0m",
      "\u001b[0;31mNameError\u001b[0m                                 Traceback (most recent call last)",
      "\u001b[0;32m<ipython-input-8-f5e10d6df1e3>\u001b[0m in \u001b[0;36m<module>\u001b[0;34m\u001b[0m\n\u001b[1;32m      1\u001b[0m \u001b[0;32mdel\u001b[0m \u001b[0msecond\u001b[0m\u001b[0;34m\u001b[0m\u001b[0;34m\u001b[0m\u001b[0m\n\u001b[1;32m      2\u001b[0m \u001b[0;34m\u001b[0m\u001b[0m\n\u001b[0;32m----> 3\u001b[0;31m \u001b[0mprint\u001b[0m\u001b[0;34m(\u001b[0m\u001b[0msecond\u001b[0m\u001b[0;34m)\u001b[0m\u001b[0;34m\u001b[0m\u001b[0;34m\u001b[0m\u001b[0m\n\u001b[0m",
      "\u001b[0;31mNameError\u001b[0m: name 'second' is not defined"
     ]
    }
   ],
   "source": [
    "del second\n",
    "\n",
    "print(second)"
   ]
  },
  {
   "cell_type": "markdown",
   "metadata": {},
   "source": [
    "#### <u> Differences between assignement and algebra </u>\n",
    "\n",
    "Take for instance the following:"
   ]
  },
  {
   "cell_type": "code",
   "execution_count": 21,
   "metadata": {},
   "outputs": [
    {
     "name": "stdout",
     "output_type": "stream",
     "text": [
      "14\n"
     ]
    }
   ],
   "source": [
    "a = 4\n",
    "b = 10\n",
    "a = a + b\n",
    "print(a)"
   ]
  },
  {
   "cell_type": "markdown",
   "metadata": {},
   "source": [
    "This is not a valid algebraic statement since '`a`' appears on both sides of '`=`', but it is a very common statement in a computer program. What happens is that the expression on the right-hand side is evaluated (the values assigned to `a` and `b` are summed), and the result is assigned to the left-hand side (to the variable `a`). There is a mathematical notation for this type of assignment:\n",
    "\n",
    "$$\n",
    "a \\leftarrow a + b \n",
    "$$\n",
    "\n",
    "which says 'sum $a$ and $b$, and copy the result to $a$'. You will see this notation in some books, especially when looking at *algorithms*."
   ]
  },
  {
   "cell_type": "markdown",
   "metadata": {},
   "source": [
    "###  Data Types \n",
    "\n",
    "Data types refer to the classification or catagorisation of data items within a Python script. The 'type' is the type of object that a variable is associated with. For example, the type could be an integer or a real number. The type affects how a computer stores the object in memory, and how operations, such as multiplication and division, are performed. \n",
    "\n",
    "In statically typed languages, like C and C++, types come up from the very beginning because you usually need to specify types explicitly in your programs. Python is a dynamically typed language, which means that types are deduced when a program is run."
   ]
  },
  {
   "cell_type": "markdown",
   "metadata": {},
   "source": [
    "#### <u> What is Type </u>\n",
    "\n",
    "All variables have a 'type', which indicates what the variable is, e.g. a number, a string of characters, etc. In 'statically typed' languages we usually need to be explicit in declaring the type of a variable in a program. In a dynamically typed language, such as Python, variables still have types but the interpreter can determine types dynamically.\n",
    "\n",
    "Type is important because it determines how a variable is stored, how it behaves when we perform operations on it, and how it interacts with other variables. For example, multiplication of two real numbers is different from multiplication of two complex numbers."
   ]
  },
  {
   "cell_type": "markdown",
   "metadata": {},
   "source": [
    "#### <u> Introspection </u>\n",
    "\n",
    "A powerful feature of Python is *introspection*. This means that we can probe a program to ask about the type of a variable. To check the type of a variable we use the function `type`:\n",
    "\n",
    "We can find out what the data type is by using the type() method. You will see below that we have printed to screen the variable and its type."
   ]
  },
  {
   "cell_type": "markdown",
   "metadata": {},
   "source": [
    "#### <u> Numeric Types </u>\n",
    "\n",
    "Numeric data types in Python represent the data which has a numeric value. There are 3 numeric Python data types (in Python 3.x); intergers, floating point numbers and complex numbers."
   ]
  },
  {
   "cell_type": "code",
   "execution_count": 41,
   "metadata": {},
   "outputs": [],
   "source": [
    "# An integer\n",
    "\n",
    "a = 42\n",
    "\n",
    "# Another integer. The only limitation on integer size in computer memory\n",
    "\n",
    "b = 10000000000000000000000000000000000000000000000000000000000000000\n",
    "\n",
    "# A float. This stores decimal numbers\n",
    "\n",
    "c = 2.75\n",
    "\n",
    "# Another float\n",
    "\n",
    "d = 42.0 \n",
    "\n",
    "# A complex number\n",
    "\n",
    "e = 5 + 4j "
   ]
  },
  {
   "cell_type": "code",
   "execution_count": 43,
   "metadata": {},
   "outputs": [
    {
     "name": "stdout",
     "output_type": "stream",
     "text": [
      "42 <class 'int'>\n",
      "10000000000000000000000000000000000000000000000000000000000000000 <class 'int'>\n",
      "2.75 <class 'float'>\n",
      "42.0 <class 'float'>\n",
      "(5+4j) <class 'complex'>\n"
     ]
    }
   ],
   "source": [
    "# Note that a = 42 and d = 42.0 are different types! This distinction \n",
    "# is very important for numerical computations.\n",
    "\n",
    "print(a, type(a))\n",
    "print(b, type(b))\n",
    "print(c, type(c))\n",
    "print(d, type(d))\n",
    "print(e, type(e))"
   ]
  },
  {
   "cell_type": "markdown",
   "metadata": {},
   "source": [
    "#### <u> Type conversions - casting </u>\n",
    "\n",
    "We can often change between types. This is called *type conversion* or *type casting*. In some cases it happens implicitly, and in other cases we can instruct our program to change the type.\n",
    "\n",
    "If we add two integers, the results will be an integer:"
   ]
  },
  {
   "cell_type": "code",
   "execution_count": 45,
   "metadata": {},
   "outputs": [
    {
     "name": "stdout",
     "output_type": "stream",
     "text": [
      "19 <class 'int'>\n"
     ]
    }
   ],
   "source": [
    "a = 4\n",
    "b = 15\n",
    "c = a + b\n",
    "print(c, type(c))"
   ]
  },
  {
   "cell_type": "markdown",
   "metadata": {},
   "source": [
    "However, if we add an `int` and a `float`, the result will be a float:"
   ]
  },
  {
   "cell_type": "code",
   "execution_count": 46,
   "metadata": {},
   "outputs": [
    {
     "name": "stdout",
     "output_type": "stream",
     "text": [
      "19.0 <class 'float'>\n"
     ]
    }
   ],
   "source": [
    "a = 4\n",
    "b = 15.0  # Adding the '.0' tells Python that it is a float\n",
    "c = a + b\n",
    "print(c, type(c))"
   ]
  },
  {
   "cell_type": "markdown",
   "metadata": {},
   "source": [
    "If we divide two integers, the result will be a `float`:"
   ]
  },
  {
   "cell_type": "code",
   "execution_count": 47,
   "metadata": {},
   "outputs": [
    {
     "name": "stdout",
     "output_type": "stream",
     "text": [
      "4.0 <class 'float'>\n"
     ]
    }
   ],
   "source": [
    "a = 16\n",
    "b = 4\n",
    "c = a/b\n",
    "print(c, type(c))\n",
    "b = 2"
   ]
  },
  {
   "cell_type": "markdown",
   "metadata": {},
   "source": [
    "When dividing two integers, we can do 'integer division' using `//`, e.g."
   ]
  },
  {
   "cell_type": "code",
   "execution_count": 48,
   "metadata": {},
   "outputs": [
    {
     "name": "stdout",
     "output_type": "stream",
     "text": [
      "5 <class 'int'>\n"
     ]
    }
   ],
   "source": [
    "a = 16\n",
    "b = 3\n",
    "c = a//b\n",
    "print(c, type(c))"
   ]
  },
  {
   "cell_type": "markdown",
   "metadata": {},
   "source": [
    "in which case the result is an `int`.\n",
    "\n",
    "In general, operations that mix an `int` and `float` will generate a `float`, and operations that mix an `int` or a `float` with `complex` will return a `complex` type. If in doubt, use `type` to experiment and check.  "
   ]
  },
  {
   "cell_type": "markdown",
   "metadata": {},
   "source": [
    "#### <u> Explicit type conversions  </u>\n",
    "\n",
    "We can explicitly change the type (perform a cast), e.g. cast from an `int` to a `float`:"
   ]
  },
  {
   "cell_type": "code",
   "execution_count": 49,
   "metadata": {},
   "outputs": [
    {
     "name": "stdout",
     "output_type": "stream",
     "text": [
      "1 <class 'int'>\n",
      "1.0 <class 'float'>\n"
     ]
    }
   ],
   "source": [
    "a = 1\n",
    "print(a, type(a))\n",
    "\n",
    "a = float(a)  # This converts the int associated with 'a' to a float, and assigns the result to the variable 'a'\n",
    "print(a, type(a))"
   ]
  },
  {
   "cell_type": "markdown",
   "metadata": {},
   "source": [
    "Going the other way,"
   ]
  },
  {
   "cell_type": "code",
   "execution_count": 50,
   "metadata": {},
   "outputs": [
    {
     "name": "stdout",
     "output_type": "stream",
     "text": [
      "1.99 <class 'float'>\n",
      "1 <class 'int'>\n"
     ]
    }
   ],
   "source": [
    "y = 1.99\n",
    "print(y, type(y))\n",
    "\n",
    "z = int(y)\n",
    "print(z, type(z))"
   ]
  },
  {
   "cell_type": "markdown",
   "metadata": {},
   "source": [
    "Note that rounding is applied when converting from a `float` to an `int`; the values after the decimal point are discarded. This type of rounding is called 'round towards zero' or 'truncation'.\n",
    "\n",
    "A common task is converting numerical types to-and-from strings. We might read a number from a file as a string, or a user might input a value which Python reads in as a string. Converting a float to a string:"
   ]
  },
  {
   "cell_type": "code",
   "execution_count": 51,
   "metadata": {},
   "outputs": [
    {
     "name": "stdout",
     "output_type": "stream",
     "text": [
      "1.023 <class 'str'>\n"
     ]
    }
   ],
   "source": [
    "a = 1.023\n",
    "b = str(a)\n",
    "print(b, type(b))"
   ]
  },
  {
   "cell_type": "markdown",
   "metadata": {},
   "source": [
    "and in the other direction:"
   ]
  },
  {
   "cell_type": "code",
   "execution_count": 52,
   "metadata": {},
   "outputs": [
    {
     "name": "stdout",
     "output_type": "stream",
     "text": [
      "15.0718.07\n",
      "33.14\n"
     ]
    }
   ],
   "source": [
    "a = \"15.07\"\n",
    "b = \"18.07\"\n",
    "\n",
    "print(a + b)\n",
    "print(float(a) + float(b))"
   ]
  },
  {
   "cell_type": "markdown",
   "metadata": {},
   "source": [
    "If we tried \n",
    "```python\n",
    "print(int(a) + int(b))\n",
    "```\n",
    "we could get an error that the strings could not be converted to `int`. It works in the case:"
   ]
  },
  {
   "cell_type": "code",
   "execution_count": 54,
   "metadata": {},
   "outputs": [
    {
     "name": "stdout",
     "output_type": "stream",
     "text": [
      "33\n"
     ]
    }
   ],
   "source": [
    "a = \"15\"\n",
    "b = \"18\"\n",
    "print(int(a) + int(b))"
   ]
  },
  {
   "cell_type": "markdown",
   "metadata": {},
   "source": [
    "since these strings can be correctly cast to integers."
   ]
  },
  {
   "cell_type": "markdown",
   "metadata": {},
   "source": [
    "#### <u> Floating point numbers  </u>\n",
    "\n",
    "When using the familiar base 10, we cannot represent numbers such as $1/3$ exactly as a decimal. If we liked using base 3 (ternary numeral system) for our mental arithmetic (which we really don't), we could represent $1/3$ exactly. However, fractions that are simple to represent exactly in base 10 might not be representable in another base.\n",
    "A consequence is that fractions that are simple in base 10 cannot necessarily be represented exactly by computers using binary.\n",
    "\n",
    "A classic example is $1/10 = 0.1$. This simple number cannot be represented exactly in\n",
    "binary. On the contrary, $1/2 = 0.5$ can be represented exactly. \n",
    "\n",
    "This has profound effects on the way arithmetic is done on the computer and is something that we should be aware of when performing calculations. "
   ]
  },
  {
   "cell_type": "code",
   "execution_count": 55,
   "metadata": {},
   "outputs": [
    {
     "name": "stdout",
     "output_type": "stream",
     "text": [
      "0.1\n"
     ]
    }
   ],
   "source": [
    "x = 0.1\n",
    "print(x)"
   ]
  },
  {
   "cell_type": "markdown",
   "metadata": {},
   "source": [
    "This looks fine, but the `print` statement is hiding some details. Asking the `print` statement to use 30 characters we see that `x` is not exactly 0.1:"
   ]
  },
  {
   "cell_type": "code",
   "execution_count": 56,
   "metadata": {},
   "outputs": [
    {
     "name": "stdout",
     "output_type": "stream",
     "text": [
      "0.100000000000000005551115123126\n"
     ]
    }
   ],
   "source": [
    "print('{0:.30f}'.format(x))"
   ]
  },
  {
   "cell_type": "markdown",
   "metadata": {},
   "source": [
    "The difference between 0.1 and the binary representation is the *roundoff error* (we'll look at print formatting syntax in a later activity). From the above, we can see that the representation is accurate to about 17 significant figures.\n",
    "\n",
    "Checking for 0.5, we see that it appears to be represented exactly:"
   ]
  },
  {
   "cell_type": "code",
   "execution_count": 59,
   "metadata": {},
   "outputs": [
    {
     "name": "stdout",
     "output_type": "stream",
     "text": [
      "0.500000000000000000000000000000\n"
     ]
    }
   ],
   "source": [
    "print('{0:.30f}'.format(0.5))"
   ]
  },
  {
   "cell_type": "markdown",
   "metadata": {},
   "source": [
    "The round-off error for the 0.1 case is small, and in many cases will not present a problem. However, sometimes round-off errors can accumulate and destroy accuracy."
   ]
  },
  {
   "cell_type": "markdown",
   "metadata": {},
   "source": [
    "#### <u> Example: Inexact representation  </u>\n",
    "\n",
    "It is trivial that\n",
    "\n",
    "$$\n",
    "x = 11x - 10x\n",
    "$$\n",
    "\n",
    "If $x = 0.1$, we can  write\n",
    "\n",
    "$$\n",
    "x = 11x - 1\n",
    "$$\n",
    "\n",
    "Now, starting with $x = 0.1$ we evaluate the right-hand side to get a 'new' $x$, and use this new $x$ to then evaluate the right-hand side again. The arithmetic is trivial: $x$ should remain equal to $0.1$.\n",
    "We test this in a program that repeats this process 20 times: "
   ]
  },
  {
   "cell_type": "code",
   "execution_count": 60,
   "metadata": {},
   "outputs": [
    {
     "name": "stdout",
     "output_type": "stream",
     "text": [
      "0.10000000000000009\n",
      "0.10000000000000098\n",
      "0.10000000000001075\n",
      "0.10000000000011822\n",
      "0.10000000000130038\n",
      "0.1000000000143042\n",
      "0.10000000015734622\n",
      "0.10000000173080847\n",
      "0.10000001903889322\n",
      "0.10000020942782539\n",
      "0.10000230370607932\n",
      "0.10002534076687253\n",
      "0.10027874843559781\n",
      "0.1030662327915759\n",
      "0.13372856070733485\n",
      "0.4710141677806834\n",
      "4.181155845587517\n",
      "44.992714301462684\n",
      "493.9198573160895\n",
      "5432.118430476985\n"
     ]
    }
   ],
   "source": [
    "x = 0.1\n",
    "for i in range(20):\n",
    "    x = x*11 - 1\n",
    "    print(x)"
   ]
  },
  {
   "cell_type": "markdown",
   "metadata": {},
   "source": [
    "The solution blows up and deviates widely from $x = 0.1$. Round-off errors are amplified at each step, leading to a completely wrong answer. The computer representation of $0.1$ is not exact, and every time we multiply $0.1$ by $11$, we increase the error by around a factor of 10 (we can see above that we lose a digit of accuracy in each step). \n",
    "You can observe the same issue using spreadsheet programs.\n",
    "\n",
    "If we use $x = 0.5$, which can be represented exactly in binary:"
   ]
  },
  {
   "cell_type": "code",
   "execution_count": 61,
   "metadata": {},
   "outputs": [
    {
     "name": "stdout",
     "output_type": "stream",
     "text": [
      "0.5\n",
      "0.5\n",
      "0.5\n",
      "0.5\n",
      "0.5\n",
      "0.5\n",
      "0.5\n",
      "0.5\n",
      "0.5\n",
      "0.5\n",
      "0.5\n",
      "0.5\n",
      "0.5\n",
      "0.5\n",
      "0.5\n",
      "0.5\n",
      "0.5\n",
      "0.5\n",
      "0.5\n",
      "0.5\n"
     ]
    }
   ],
   "source": [
    "x = 0.5\n",
    "for i in range(20):\n",
    "    x = x*11 - 5\n",
    "    print(x)"
   ]
  },
  {
   "cell_type": "markdown",
   "metadata": {},
   "source": [
    "The result is exact in this case.\n"
   ]
  },
  {
   "cell_type": "markdown",
   "metadata": {},
   "source": [
    "#### <u> Strings </u> \n",
    "\n",
    "Strings are sequences of characters delimited by single, double or triple quotes. There isn't a character data type in Python, a single character is simply a string of length one."
   ]
  },
  {
   "cell_type": "code",
   "execution_count": 11,
   "metadata": {},
   "outputs": [
    {
     "name": "stdout",
     "output_type": "stream",
     "text": [
      "Hot <class 'str'>\n",
      "Not as hot as Summer <class 'str'>\n",
      "Normally quite cold. Temperatues can go below 0 <class 'str'>\n"
     ]
    }
   ],
   "source": [
    "# Notice how number of quotation marks still returns a string and the mix of letters and numbers in the third example\n",
    "\n",
    "Summer = 'Hot'\n",
    "Spring = \"Not as hot as Summer\"\n",
    "Winter = \"\"\"Normally quite cold. Temperatues can go below 0\"\"\"\n",
    "\n",
    "print(Summer, type(Summer))\n",
    "print(Spring, type(Spring))\n",
    "print(Winter, type(Winter))"
   ]
  },
  {
   "cell_type": "markdown",
   "metadata": {},
   "source": [
    "To access a part of a string with can use Pythons indexing ability. Python indexes always start at 0, and so the first letter of a string is the 0th index, the second letter in the first index. To do this use square brackets containing the indexing number after you call the variable."
   ]
  },
  {
   "cell_type": "code",
   "execution_count": 12,
   "metadata": {},
   "outputs": [
    {
     "name": "stdout",
     "output_type": "stream",
     "text": [
      "N\n",
      "o\n",
      "0\n",
      " \n"
     ]
    }
   ],
   "source": [
    "# Notice here how the 0th index returns the first character. The -1 index returns the last character, and the -2 index returns a blank. This is becasue white space is also included when counting the index and so the space between 'below' and '0' is returned.\n",
    "\n",
    "print(Winter[0])\n",
    "print(Winter[1])\n",
    "print(Winter[-1])\n",
    "print(Winter[-2])"
   ]
  },
  {
   "cell_type": "markdown",
   "metadata": {},
   "source": [
    "We can also use indexing to return large parts of a string. This is called slicing and is done with an ':'."
   ]
  },
  {
   "cell_type": "code",
   "execution_count": 13,
   "metadata": {},
   "outputs": [
    {
     "name": "stdout",
     "output_type": "stream",
     "text": [
      "rmally q\n",
      "mally quite cold. Temperatues can go below 0\n",
      "Norma\n",
      "Nral ut od eprte a oblw0\n"
     ]
    }
   ],
   "source": [
    "# Notice that when slicing, the first number is the starting index and the final number is the index above the the character that is returned.\n",
    "\n",
    "print(Winter[2:10])\n",
    "print(Winter[3:])\n",
    "print(Winter[:5])\n",
    "print(Winter[0::2])"
   ]
  },
  {
   "cell_type": "markdown",
   "metadata": {},
   "source": [
    "#### <u> List </u>\n",
    "\n",
    "A list is simply a collection of different values seperated with a comma. Again, there is no need to declare the type of a list. It can contain a lot of different data types, for instane a single list could contain both integers and strings. A list is ordered and, just like above, the indexing starts at 0. To define a list we we use square brackets '[]'"
   ]
  },
  {
   "cell_type": "code",
   "execution_count": 14,
   "metadata": {},
   "outputs": [
    {
     "name": "stdout",
     "output_type": "stream",
     "text": [
      "[] <class 'list'>\n",
      "['January', 'February'] <class 'list'>\n",
      "['March', 'April', 31, 30] <class 'list'>\n",
      "[['January', 'February'], ['March', 'April', 31, 30]] <class 'list'>\n",
      "[1, 1, 'Python', 2, 3, 3, 4, 5, 2, 2, 'Python'] <class 'list'>\n"
     ]
    }
   ],
   "source": [
    "# Notice here how the first list is just an empty list. Also notice how the third list contains strings and numbers\n",
    "# and that the fourth list is a list of lists. The fifth list contains duplicate values in distinct postitions.\n",
    "# They all have type list however.\n",
    "\n",
    "first_list = []\n",
    "second_list = ['January', 'February']\n",
    "third_list = ['March', 'April', 31, 30]\n",
    "fourth_list = [second_list, third_list]\n",
    "fifth_list = [1, 1, 'Python', 2, 3, 3, 4, 5, 2, 2, 'Python']\n",
    "\n",
    "print(first_list, type(first_list))\n",
    "print(second_list, type(second_list))\n",
    "print(third_list, type(third_list))\n",
    "print(fourth_list, type(fourth_list))\n",
    "print(fifth_list, type(fifth_list))"
   ]
  },
  {
   "cell_type": "markdown",
   "metadata": {},
   "source": [
    "We can also slice lists, just like we could strings."
   ]
  },
  {
   "cell_type": "code",
   "execution_count": 15,
   "metadata": {},
   "outputs": [
    {
     "name": "stdout",
     "output_type": "stream",
     "text": [
      "March\n",
      "30\n",
      "['March', 'April']\n"
     ]
    }
   ],
   "source": [
    "print(third_list[0])\n",
    "print(third_list[-1])\n",
    "print(third_list[0:2])"
   ]
  },
  {
   "cell_type": "markdown",
   "metadata": {},
   "source": [
    "As lists are mutable, we can change the elements that are present in them"
   ]
  },
  {
   "cell_type": "code",
   "execution_count": 16,
   "metadata": {},
   "outputs": [
    {
     "name": "stdout",
     "output_type": "stream",
     "text": [
      "['peaches', 'Chips', 'steak,', 'apple juice']\n"
     ]
    }
   ],
   "source": [
    "# Notice here how bananas is changed to chips in the updated shopping list. The index one is actually the second \n",
    "# item in the list.\n",
    "\n",
    "shopping_list = ['peaches', 'bananas', 'steak,', 'apple juice']\n",
    "shopping_list[1] = 'Chips'\n",
    "\n",
    "print(shopping_list)"
   ]
  },
  {
   "cell_type": "markdown",
   "metadata": {},
   "source": [
    "And we can also remove elements in a list"
   ]
  },
  {
   "cell_type": "code",
   "execution_count": 17,
   "metadata": {},
   "outputs": [
    {
     "name": "stdout",
     "output_type": "stream",
     "text": [
      "['Chips', 'steak,', 'apple juice']\n"
     ]
    }
   ],
   "source": [
    "shopping_list.remove('peaches')\n",
    "print(shopping_list)"
   ]
  },
  {
   "cell_type": "markdown",
   "metadata": {},
   "source": [
    "Or find the length of a list"
   ]
  },
  {
   "cell_type": "code",
   "execution_count": 18,
   "metadata": {},
   "outputs": [
    {
     "name": "stdout",
     "output_type": "stream",
     "text": [
      "The length of our updated shopping list is 3\n"
     ]
    }
   ],
   "source": [
    "print('The length of our updated shopping list is', len(shopping_list))"
   ]
  },
  {
   "cell_type": "markdown",
   "metadata": {},
   "source": [
    "#### <u> Tuples </u>\n",
    "\n",
    "Tuples are like lists but are declared with parentheses instead. Just like lists they are an ordered collection of objects seperated by commas, however unlike lists they are immutable. This means that once declared you cannot change the elements they contains or the size of the tuple."
   ]
  },
  {
   "cell_type": "code",
   "execution_count": 19,
   "metadata": {},
   "outputs": [],
   "source": [
    "tuple_1 = () # The empty tuple\n",
    "tuple_2 = ('Python', 'Java', 'C++') # A tuple containing strings\n",
    "tuple_3 = (tuple_1, tuple_2) # A nested tuple"
   ]
  },
  {
   "cell_type": "code",
   "execution_count": 20,
   "metadata": {},
   "outputs": [
    {
     "name": "stdout",
     "output_type": "stream",
     "text": [
      "() ('Python', 'Java', 'C++') ((), ('Python', 'Java', 'C++'))\n"
     ]
    }
   ],
   "source": [
    "print(tuple_1, tuple_2, tuple_3)"
   ]
  },
  {
   "cell_type": "markdown",
   "metadata": {},
   "source": [
    "Tuples can be sliced just like lists can:"
   ]
  },
  {
   "cell_type": "code",
   "execution_count": 21,
   "metadata": {},
   "outputs": [
    {
     "name": "stdout",
     "output_type": "stream",
     "text": [
      "C++\n",
      "('Python', 'Java')\n"
     ]
    }
   ],
   "source": [
    "print(tuple_2[2])\n",
    "print(tuple_2[0:2])"
   ]
  },
  {
   "cell_type": "markdown",
   "metadata": {},
   "source": [
    "However, as they are immutable, changes cannot be made"
   ]
  },
  {
   "cell_type": "code",
   "execution_count": 22,
   "metadata": {},
   "outputs": [
    {
     "ename": "TypeError",
     "evalue": "'tuple' object does not support item assignment",
     "output_type": "error",
     "traceback": [
      "\u001b[0;31m---------------------------------------------------------------------------\u001b[0m",
      "\u001b[0;31mTypeError\u001b[0m                                 Traceback (most recent call last)",
      "\u001b[0;32m<ipython-input-22-bb54ddbfcdcd>\u001b[0m in \u001b[0;36m<module>\u001b[0;34m\u001b[0m\n\u001b[1;32m      1\u001b[0m \u001b[0;31m# Notice the error message that is produced.\u001b[0m\u001b[0;34m\u001b[0m\u001b[0;34m\u001b[0m\u001b[0;34m\u001b[0m\u001b[0m\n\u001b[1;32m      2\u001b[0m \u001b[0;34m\u001b[0m\u001b[0m\n\u001b[0;32m----> 3\u001b[0;31m \u001b[0mtuple_2\u001b[0m\u001b[0;34m[\u001b[0m\u001b[0;36m1\u001b[0m\u001b[0;34m]\u001b[0m \u001b[0;34m=\u001b[0m \u001b[0;34m'SQL'\u001b[0m\u001b[0;34m\u001b[0m\u001b[0;34m\u001b[0m\u001b[0m\n\u001b[0m",
      "\u001b[0;31mTypeError\u001b[0m: 'tuple' object does not support item assignment"
     ]
    }
   ],
   "source": [
    "# Notice the error message that is produced.\n",
    "\n",
    "tuple_2[1] = 'SQL'"
   ]
  },
  {
   "cell_type": "markdown",
   "metadata": {},
   "source": [
    "#### <u> Dictionaries </u>\n",
    "\n",
    "A Python dictionary is an unordered collection of data values, and hold key-value pairs. It acts as a mapping between the key and the value. Each key value pair is seperated by a colon and each key is seperated by a comma. A dictionary is called by using curly braces."
   ]
  },
  {
   "cell_type": "code",
   "execution_count": 23,
   "metadata": {},
   "outputs": [
    {
     "name": "stdout",
     "output_type": "stream",
     "text": [
      "<class 'dict'>\n"
     ]
    }
   ],
   "source": [
    "# Note the different types of key:value pairs\n",
    "\n",
    "empty_dict = {}\n",
    "car_stats_dict = {'Make': 'Ferrari', 'Model': 'Enzo', 'Colour': 'Red', 'Max Speed': 218}\n",
    "\n",
    "print(type(car_stats_dict))"
   ]
  },
  {
   "cell_type": "markdown",
   "metadata": {},
   "source": [
    "We can access the whole dictionary or just specific values."
   ]
  },
  {
   "cell_type": "code",
   "execution_count": 24,
   "metadata": {},
   "outputs": [
    {
     "name": "stdout",
     "output_type": "stream",
     "text": [
      "{'Make': 'Ferrari', 'Model': 'Enzo', 'Colour': 'Red', 'Max Speed': 218}\n",
      "218\n",
      "The make of car is a Ferrari and it has a max speed of 218 MPH\n"
     ]
    }
   ],
   "source": [
    "print(car_stats_dict)\n",
    "print(car_stats_dict['Max Speed'])\n",
    "print('The make of car is a', car_stats_dict['Make'], 'and it has a max speed of', car_stats_dict['Max Speed']\n",
    "      , 'MPH')"
   ]
  },
  {
   "cell_type": "markdown",
   "metadata": {},
   "source": [
    "A dictionary is mutable and so it can have its elements reassigned "
   ]
  },
  {
   "cell_type": "code",
   "execution_count": 25,
   "metadata": {},
   "outputs": [
    {
     "name": "stdout",
     "output_type": "stream",
     "text": [
      "The model of ferrari is now a California and it has a different max speed of 193 MPH\n"
     ]
    }
   ],
   "source": [
    "car_stats_dict['Model'] = 'California'\n",
    "car_stats_dict['Max Speed'] = '193'\n",
    "\n",
    "print('The model of ferrari is now a', car_stats_dict['Model'], 'and it has a different max speed of'\n",
    "      , car_stats_dict['Max Speed'], 'MPH')"
   ]
  },
  {
   "cell_type": "markdown",
   "metadata": {},
   "source": [
    "#### <u> Sets </u>\n",
    "\n",
    "A set is an unordered collection of data types. A result of being unordered is that they dont support indexing. Neither do they support duplicate elements. They are called using curly braces, and each element is seperated by a comma."
   ]
  },
  {
   "cell_type": "code",
   "execution_count": 26,
   "metadata": {},
   "outputs": [],
   "source": [
    "empty_set = {}\n",
    "_1st_set = {1, 2, 3, 4}\n",
    "_2nd_set = {1,1, 2,2, 3,3, 4,4}\n",
    "_3rd_set = {'Python is great'}"
   ]
  },
  {
   "cell_type": "code",
   "execution_count": 27,
   "metadata": {},
   "outputs": [
    {
     "name": "stdout",
     "output_type": "stream",
     "text": [
      "{} <class 'dict'>\n",
      "{1, 2, 3, 4} <class 'set'>\n",
      "{1, 2, 3, 4} <class 'set'>\n",
      "{'Python is great'} <class 'set'>\n"
     ]
    }
   ],
   "source": [
    "# Notice how the empty set is no different to the empty dictionary, and that Python views an empty set as a \n",
    "# dictionary automatically. Also notice the 1st and 2nd set return the same values when printed.\n",
    "\n",
    "print(empty_set, type(empty_set))\n",
    "print(_1st_set, type(_1st_set))\n",
    "print(_2nd_set, type(_2nd_set))\n",
    "print(_3rd_set, type(_3rd_set))"
   ]
  },
  {
   "cell_type": "code",
   "execution_count": 28,
   "metadata": {},
   "outputs": [
    {
     "ename": "TypeError",
     "evalue": "'set' object does not support indexing",
     "output_type": "error",
     "traceback": [
      "\u001b[0;31m---------------------------------------------------------------------------\u001b[0m",
      "\u001b[0;31mTypeError\u001b[0m                                 Traceback (most recent call last)",
      "\u001b[0;32m<ipython-input-28-36f3cddf154d>\u001b[0m in \u001b[0;36m<module>\u001b[0;34m\u001b[0m\n\u001b[1;32m      1\u001b[0m \u001b[0;31m# As a set is unordered, indexing won't work. See the error message, in Python they are very clear.\u001b[0m\u001b[0;34m\u001b[0m\u001b[0;34m\u001b[0m\u001b[0;34m\u001b[0m\u001b[0m\n\u001b[1;32m      2\u001b[0m \u001b[0;34m\u001b[0m\u001b[0m\n\u001b[0;32m----> 3\u001b[0;31m \u001b[0m_1st_set\u001b[0m\u001b[0;34m[\u001b[0m\u001b[0;36m2\u001b[0m\u001b[0;34m]\u001b[0m\u001b[0;34m\u001b[0m\u001b[0;34m\u001b[0m\u001b[0m\n\u001b[0m",
      "\u001b[0;31mTypeError\u001b[0m: 'set' object does not support indexing"
     ]
    }
   ],
   "source": [
    "# As a set is unordered, indexing won't work. See the error message, in Python they are very clear.\n",
    "\n",
    "_1st_set[2]"
   ]
  },
  {
   "cell_type": "markdown",
   "metadata": {},
   "source": [
    "#### <u> Booleans </u>\n",
    "\n",
    "The 'Boolean' type that can take on one of two values - true or false. This is the simplest type."
   ]
  },
  {
   "cell_type": "code",
   "execution_count": 44,
   "metadata": {},
   "outputs": [
    {
     "name": "stdout",
     "output_type": "stream",
     "text": [
      "True <class 'bool'>\n"
     ]
    }
   ],
   "source": [
    "a = True\n",
    "b = False\n",
    "test = a or b  # test will be True if a or b are True\n",
    "print(test, type(test))"
   ]
  },
  {
   "cell_type": "markdown",
   "metadata": {},
   "source": [
    "### <u> Operators </u>\n",
    "\n",
    "Operators are symbols taht allow you to, unsurprisingly, perform operations on operands. There are 7 main types of operators in Python, each with a specific function. These are:\n",
    "\n",
    "    1) Arithmetic Operator\n",
    "    2) Relational Operator\n",
    "    3) Assignments Operator\n",
    "    4) Logical Operator\n",
    "    5) Membership Operator\n",
    "    6) Identity Operator \n",
    "    7) Bitwise Operator\n",
    "    \n",
    "Each of these perform different arithmetic or logical computations and can be used with many of the data types described above."
   ]
  },
  {
   "cell_type": "markdown",
   "metadata": {},
   "source": [
    "#### <u> The Arithmetic Operators </u>\n",
    "\n",
    "These operators are used to perform mathematical operations such as additions, subraction, multiplication and division."
   ]
  },
  {
   "cell_type": "code",
   "execution_count": 29,
   "metadata": {},
   "outputs": [
    {
     "name": "stdout",
     "output_type": "stream",
     "text": [
      "7\n",
      "7\n"
     ]
    }
   ],
   "source": [
    "# The addition operator can be used directly on numbers or it can be used on variables\n",
    "\n",
    "a = 3\n",
    "b = 4\n",
    "\n",
    "print(3+4)\n",
    "print(a+b)\n"
   ]
  },
  {
   "cell_type": "code",
   "execution_count": 30,
   "metadata": {},
   "outputs": [
    {
     "name": "stdout",
     "output_type": "stream",
     "text": [
      "Python is the best programming language ever\n"
     ]
    }
   ],
   "source": [
    "# The addition operator can also be used on strings\n",
    "\n",
    "string_1 = 'Python is the best programming '\n",
    "string_2 = 'language ever'\n",
    "\n",
    "print(string_1 + string_2)"
   ]
  },
  {
   "cell_type": "code",
   "execution_count": 31,
   "metadata": {},
   "outputs": [
    {
     "name": "stdout",
     "output_type": "stream",
     "text": [
      "-1\n",
      "-1\n"
     ]
    }
   ],
   "source": [
    "# The subrtaction operator can be used much the same way as the addition operator\n",
    "\n",
    "print(3-4)\n",
    "print(a-b)"
   ]
  },
  {
   "cell_type": "code",
   "execution_count": 32,
   "metadata": {},
   "outputs": [
    {
     "name": "stdout",
     "output_type": "stream",
     "text": [
      "12\n",
      "12\n"
     ]
    }
   ],
   "source": [
    "# Multiplication is just as straight forward. Use the * symbol for multiplication\n",
    "\n",
    "print(a*b)\n",
    "print(3*4)"
   ]
  },
  {
   "cell_type": "code",
   "execution_count": 33,
   "metadata": {},
   "outputs": [
    {
     "name": "stdout",
     "output_type": "stream",
     "text": [
      "81\n",
      "81\n"
     ]
    }
   ],
   "source": [
    "# Exponentials are called in a similar fashion using two **\n",
    "\n",
    "print(a**b)\n",
    "print(3**4)"
   ]
  },
  {
   "cell_type": "code",
   "execution_count": 34,
   "metadata": {},
   "outputs": [
    {
     "name": "stdout",
     "output_type": "stream",
     "text": [
      "0.75\n",
      "0.75\n"
     ]
    }
   ],
   "source": [
    "# Division is much the same and returns a floating point number\n",
    "\n",
    "print(a/b)\n",
    "print(3/4)"
   ]
  },
  {
   "cell_type": "code",
   "execution_count": 35,
   "metadata": {},
   "outputs": [
    {
     "name": "stdout",
     "output_type": "stream",
     "text": [
      "0\n",
      "0\n"
     ]
    }
   ],
   "source": [
    "# Unless floor division is used. In this can an integer value value of the quotient is returned\n",
    "\n",
    "print(a//b)\n",
    "print(3//4)"
   ]
  },
  {
   "cell_type": "code",
   "execution_count": 36,
   "metadata": {},
   "outputs": [
    {
     "name": "stdout",
     "output_type": "stream",
     "text": [
      "3\n",
      "3\n"
     ]
    }
   ],
   "source": [
    "# The modulus can be returned using the % symbol\n",
    "\n",
    "print(a%b)\n",
    "print(3%4)"
   ]
  },
  {
   "cell_type": "markdown",
   "metadata": {},
   "source": [
    "#### <u> Relational Operators </u>\n",
    "\n",
    "Relational operators carry out comparisons between operands. They consist of >,< and =. A value of true or false is returned."
   ]
  },
  {
   "cell_type": "code",
   "execution_count": 37,
   "metadata": {},
   "outputs": [
    {
     "name": "stdout",
     "output_type": "stream",
     "text": [
      "True False\n",
      "False True\n"
     ]
    }
   ],
   "source": [
    "# Greater than and less than symbols are straightforward to use\n",
    "\n",
    "print(a<b, b<a)\n",
    "print(a>b, b>a)"
   ]
  },
  {
   "cell_type": "code",
   "execution_count": 38,
   "metadata": {},
   "outputs": [
    {
     "name": "stdout",
     "output_type": "stream",
     "text": [
      "True\n",
      "False\n"
     ]
    }
   ],
   "source": [
    "# Less than/greater than or equal to can also be called\n",
    "\n",
    "print(a<=b)\n",
    "print(a>=b)"
   ]
  },
  {
   "cell_type": "code",
   "execution_count": 39,
   "metadata": {},
   "outputs": [
    {
     "name": "stdout",
     "output_type": "stream",
     "text": [
      "False\n",
      "True\n",
      "True\n",
      "False\n",
      "True\n",
      "False\n",
      "True\n"
     ]
    }
   ],
   "source": [
    "# A double == will return true or false if two things are the same or not. Its different to the single = which \n",
    "# assigns values to variables. Note how f and g are returned as being equal\n",
    "\n",
    "c = [2, 4, 6]\n",
    "d = [2, 4, 6]\n",
    "e = [1, 2, 3]\n",
    "f = 2\n",
    "g = 2.0\n",
    "\n",
    "print(a==b)\n",
    "print('Python' == 'Python')\n",
    "print(4 == 4)\n",
    "print('Python' == 'Java')\n",
    "print(c == d)\n",
    "print(c == e)\n",
    "print(f==g)"
   ]
  },
  {
   "cell_type": "code",
   "execution_count": 40,
   "metadata": {},
   "outputs": [
    {
     "name": "stdout",
     "output_type": "stream",
     "text": [
      "False\n",
      "True\n"
     ]
    }
   ],
   "source": [
    "# To check if things are not equal use the symbol !=\n",
    "\n",
    "print(c!=d) # In this case c and d are equal\n",
    "print('Python' != 'Java') # The string Python does not equal the string Java"
   ]
  },
  {
   "cell_type": "markdown",
   "metadata": {},
   "source": [
    "#### <u> Logical Operators </u>\n",
    "\n",
    "There are 3 logical operators in Python and they are used to combine multiple condtions. The 3 are 'AND', 'OR' and 'NOT'."
   ]
  },
  {
   "cell_type": "code",
   "execution_count": 41,
   "metadata": {},
   "outputs": [
    {
     "name": "stdout",
     "output_type": "stream",
     "text": [
      "True False\n"
     ]
    }
   ],
   "source": [
    "# AND can be used to check the validity of two statements. If the conditions of both side are true then the \n",
    "# expression as a whole is true. Notice how the logical operator comes up in a different colour in the code.\n",
    "\n",
    "h = 10 > 7 and 5 < 6 # In this example both statements are true\n",
    "i = 7 > 10 and 5 < 6 # In this example only one statement is true and therefor False is returned overall\n",
    "\n",
    "print(h, i)"
   ]
  },
  {
   "cell_type": "code",
   "execution_count": 42,
   "metadata": {},
   "outputs": [
    {
     "name": "stdout",
     "output_type": "stream",
     "text": [
      "True True False\n"
     ]
    }
   ],
   "source": [
    "# OR only returns false is both statements are false\n",
    "\n",
    "j = 10 > 7 or 5 < 6\n",
    "k = 20 > 30 or 1 < 2\n",
    "l = 20 > 30 or 2 < 1 # This is the only statement here where both are wrong\n",
    "\n",
    "print(j, k, l)"
   ]
  },
  {
   "cell_type": "code",
   "execution_count": 43,
   "metadata": {},
   "outputs": [
    {
     "name": "stdout",
     "output_type": "stream",
     "text": [
      "True\n"
     ]
    }
   ],
   "source": [
    "# NOT is a bit trickier. NOT inverts the boolean value\n",
    "\n",
    "m = not(0)\n",
    "print(m)"
   ]
  },
  {
   "cell_type": "markdown",
   "metadata": {},
   "source": [
    "#### <u> Assingment Operators </u>\n",
    "\n",
    "We have already come across the assignment operator =, however there a few more. They all assign values to variables and in most cases updatae a variable with a new value. "
   ]
  },
  {
   "cell_type": "code",
   "execution_count": 44,
   "metadata": {},
   "outputs": [
    {
     "name": "stdout",
     "output_type": "stream",
     "text": [
      "29\n"
     ]
    }
   ],
   "source": [
    "# Notice how n is updated to reflect the new value. \n",
    "\n",
    "n = 27 \n",
    "n+=2 # By writing code like this, 2 will be added to n each time you run this cell\n",
    "print(n)"
   ]
  },
  {
   "cell_type": "code",
   "execution_count": 45,
   "metadata": {},
   "outputs": [
    {
     "name": "stdout",
     "output_type": "stream",
     "text": [
      "26\n"
     ]
    }
   ],
   "source": [
    "# We had updated n to equal 29 in the last chunk. Here we update is again by subtracting 3\n",
    "\n",
    "n-=3 # 3 will be subtracted from n each time you run this cell\n",
    "print(n)"
   ]
  },
  {
   "cell_type": "code",
   "execution_count": 46,
   "metadata": {},
   "outputs": [
    {
     "name": "stdout",
     "output_type": "stream",
     "text": [
      "13.0\n"
     ]
    }
   ],
   "source": [
    "# We can divide and assign too. Notice how a float is returned\n",
    "\n",
    "n/=2\n",
    "print(n)"
   ]
  },
  {
   "cell_type": "code",
   "execution_count": 47,
   "metadata": {},
   "outputs": [
    {
     "name": "stdout",
     "output_type": "stream",
     "text": [
      "39.0\n"
     ]
    }
   ],
   "source": [
    "# Multiplying and assigning is done in much the same way\n",
    "\n",
    "n*=3\n",
    "print(n)"
   ]
  },
  {
   "cell_type": "markdown",
   "metadata": {},
   "source": [
    "#### <u> Identity Operators </u>\n",
    "\n",
    "Identity operators consist of IS and IS NOT. For the IS operator, if two operands have the same identity then True is returned. Otherwise it returns False. The IS NOT operator works in the opposite way."
   ]
  },
  {
   "cell_type": "code",
   "execution_count": 48,
   "metadata": {},
   "outputs": [
    {
     "name": "stdout",
     "output_type": "stream",
     "text": [
      "True\n",
      "False\n",
      "False\n",
      "True\n",
      "False\n"
     ]
    }
   ],
   "source": [
    "o = 20 is 20\n",
    "p = 20 is 30\n",
    "q = 'Python' is 'Java'\n",
    "r = 'Python' is not 'Java'\n",
    "s = 0 is not 0\n",
    "\n",
    "print(o)\n",
    "print(p)\n",
    "print(q)\n",
    "print(r)\n",
    "print(s)"
   ]
  },
  {
   "cell_type": "markdown",
   "metadata": {},
   "source": [
    "#### <u> Membership Operators </u>\n",
    "\n",
    "Membership operators consist of IN and NOT IN. They check if an element belongs to a sequence. "
   ]
  },
  {
   "cell_type": "code",
   "execution_count": 49,
   "metadata": {},
   "outputs": [
    {
     "name": "stdout",
     "output_type": "stream",
     "text": [
      "False\n"
     ]
    }
   ],
   "source": [
    "# Here we see that SQL is not part of our list of programming languages\n",
    "\n",
    "t = ['Python', 'Java', 'C++']\n",
    "print('SQL' in t)"
   ]
  },
  {
   "cell_type": "code",
   "execution_count": 50,
   "metadata": {},
   "outputs": [
    {
     "name": "stdout",
     "output_type": "stream",
     "text": [
      "True\n"
     ]
    }
   ],
   "source": [
    "# If we add SQL to our list, we can then see how the NOT IN membership operator works\n",
    "\n",
    "u = t + ['SQL']\n",
    "\n",
    "print('Java script' not in t)"
   ]
  },
  {
   "cell_type": "markdown",
   "metadata": {},
   "source": [
    "#### <u> Operator precedence </u>\n",
    "\n",
    "Operator precedence refers to the order in which operations are performed, e.g. multiplication before addition.\n",
    "In the preceding examples, there was no ambiguity as to the order of the operations. However, there are common cases where order does matter, and there are two points to consider:\n",
    "\n",
    "- The expression should be evaluated correctly and; \n",
    "- The expression should be simple enough for someone else reading the code to understand what operation is being \n",
    "  performed.\n",
    "\n",
    "It is possible to write code that is correct, but which might be very difficult for someone else (or you) to check.\n",
    "\n",
    "Most programming languages, including Python, follow the usual mathematical rules for precedence. We explore this through some examples."
   ]
  },
  {
   "cell_type": "markdown",
   "metadata": {},
   "source": [
    "Consider the expression $3 \\cdot (5 - 1) = 12$. However if we are careless, "
   ]
  },
  {
   "cell_type": "code",
   "execution_count": 10,
   "metadata": {},
   "outputs": [
    {
     "data": {
      "text/plain": [
       "14"
      ]
     },
     "execution_count": 10,
     "metadata": {},
     "output_type": "execute_result"
    }
   ],
   "source": [
    "3*5 - 1"
   ]
  },
  {
   "cell_type": "markdown",
   "metadata": {},
   "source": [
    "In the above, `3*5` is evaluated first, then `1` is subtracted because multiplication (`*`) comes before subtraction (`-`) in terms of precedence. We can control the order of the operation using brackets, just as we would on paper:"
   ]
  },
  {
   "cell_type": "code",
   "execution_count": 11,
   "metadata": {},
   "outputs": [
    {
     "data": {
      "text/plain": [
       "12"
      ]
     },
     "execution_count": 11,
     "metadata": {},
     "output_type": "execute_result"
    }
   ],
   "source": [
    "3*(5 - 1)"
   ]
  },
  {
   "cell_type": "markdown",
   "metadata": {},
   "source": [
    "A common example where readability is a concern is \n",
    "\n",
    "$$\n",
    "\\frac{20}{4 \\times 10} = 0.5\n",
    "$$\n",
    "\n",
    "The code"
   ]
  },
  {
   "cell_type": "code",
   "execution_count": 18,
   "metadata": {},
   "outputs": [
    {
     "data": {
      "text/plain": [
       "50.0"
      ]
     },
     "execution_count": 18,
     "metadata": {},
     "output_type": "execute_result"
    }
   ],
   "source": [
    "20/4*10"
   ]
  },
  {
   "cell_type": "markdown",
   "metadata": {},
   "source": [
    "is not consistent with what we wish to compute. Multiplication and division have the same precedence, so the expression is evaluated 'left-to-right'. The correct result is computed from "
   ]
  },
  {
   "cell_type": "code",
   "execution_count": 17,
   "metadata": {},
   "outputs": [
    {
     "data": {
      "text/plain": [
       "0.5"
      ]
     },
     "execution_count": 17,
     "metadata": {},
     "output_type": "execute_result"
    }
   ],
   "source": [
    "20/4/10"
   ]
  },
  {
   "cell_type": "markdown",
   "metadata": {},
   "source": [
    "but this is hard to read and could easily lead to errors in a program. Better is to use brackets to make the order clear:"
   ]
  },
  {
   "cell_type": "code",
   "execution_count": 6,
   "metadata": {},
   "outputs": [
    {
     "data": {
      "text/plain": [
       "0.1"
      ]
     },
     "execution_count": 6,
     "metadata": {},
     "output_type": "execute_result"
    }
   ],
   "source": [
    "10/(2*50)"
   ]
  },
  {
   "cell_type": "markdown",
   "metadata": {},
   "source": [
    "Here is an example that computes $2^{3} \\cdot 4 = 32$ which is technically correct but not ideal in terms of readability:"
   ]
  },
  {
   "cell_type": "code",
   "execution_count": 7,
   "metadata": {},
   "outputs": [
    {
     "data": {
      "text/plain": [
       "32"
      ]
     },
     "execution_count": 7,
     "metadata": {},
     "output_type": "execute_result"
    }
   ],
   "source": [
    "2**3*4"
   ]
  },
  {
   "cell_type": "markdown",
   "metadata": {},
   "source": [
    "Better would be:"
   ]
  },
  {
   "cell_type": "code",
   "execution_count": 8,
   "metadata": {},
   "outputs": [
    {
     "data": {
      "text/plain": [
       "32"
      ]
     },
     "execution_count": 8,
     "metadata": {},
     "output_type": "execute_result"
    }
   ],
   "source": [
    "(2**3)*4"
   ]
  },
  {
   "cell_type": "markdown",
   "metadata": {},
   "source": [
    "### <u> Decision making statements </u>\n",
    "\n",
    "Decision making statements, or control statements, are used to control the flow of execution of a program. This is achieved by using IF statements, IF-ELSE statements, nested statements and conditional statements. By using these intelligently we can cause a program to pause or stop if needed, or continue as long as a pre-defined condtion is met, making heavy use of the fact that many expressions in Python can be returned as either True or False. \n",
    "\n",
    "When using decicion making statements it is imperative to adhere to the principles or white space laid out above. All statements in a block must be indented equally. This is because braces are not used to delimit blocks."
   ]
  },
  {
   "cell_type": "markdown",
   "metadata": {},
   "source": [
    "#### <u> If/ If-Else statements </u>\n",
    "\n",
    "An if statement controles the how a block of code progresses. If it amounts to True, then the code block is executed and control is given to any statements in the next block. If it amounts to False, then the programme will either crash and stop, or that particular code block is skipped and the interpreter moves onto any code which follows. \n",
    "\n",
    "To have more control over the output you can also specify an else statement, creating an if-else statement. If the initial statment if False, than the else statement will trigger and execute code for this particular scenario.\n",
    "\n",
    "One further step we can take is to introduce an elif statement. This works as above but lets you check if multiple expressions are true or not.\n",
    "\n",
    "We encountered an If-Else statement at the beginning of this tutorial. Lets have another look at it"
   ]
  },
  {
   "cell_type": "code",
   "execution_count": 67,
   "metadata": {},
   "outputs": [
    {
     "name": "stdout",
     "output_type": "stream",
     "text": [
      "Good choice!\n"
     ]
    }
   ],
   "source": [
    "# Decision making statements can be combined with the operators we have detailed above. In this code chunk we\n",
    "# ask if the programming language is equivalent to python or not. If this is returned as True, the code progresses \n",
    "# and prints 'good choice'. If it is returned as False, then nothing is printed as the print statement isn't \n",
    "# executed\n",
    "\n",
    "programming_language = 'Python'\n",
    "\n",
    "if programme_language == 'Python': # Notice the equivalence operator and the\n",
    "                                   # colon used to signify the end of the if statement\n",
    "    \n",
    "    print('Good choice!') # Notice the indentation of the body of the statement"
   ]
  },
  {
   "cell_type": "code",
   "execution_count": 55,
   "metadata": {},
   "outputs": [
    {
     "name": "stdout",
     "output_type": "stream",
     "text": [
      "Go back to Python!\n"
     ]
    }
   ],
   "source": [
    "# If we now turn this code block into an if-else statement then we can control the outputs more readily. We can see\n",
    "# that the if statement would return False, hence skipping the print statement in that chunk and executing the \n",
    "# else statement\n",
    "\n",
    "new_programming_language = 'Java script'\n",
    "\n",
    "if new_programming_language == 'Python':\n",
    "    \n",
    "    print('Good choice!')\n",
    "    \n",
    "else:\n",
    "    \n",
    "    print('Go back to Python!')"
   ]
  },
  {
   "cell_type": "code",
   "execution_count": 62,
   "metadata": {},
   "outputs": [
    {
     "name": "stdout",
     "output_type": "stream",
     "text": [
      "Great! Keep going!\n"
     ]
    }
   ],
   "source": [
    "# We can also use elif statements. Try changing the Python level, or putting in extra elif statements.\n",
    "\n",
    "python_level = 'Intermeidate'\n",
    "\n",
    "if python_level == 'Master':\n",
    "    \n",
    "    print('Fantastic!')\n",
    "    \n",
    "elif python_level == 'Intermeidate':\n",
    "    \n",
    "    print('Great! Keep going!')\n",
    "    \n",
    "else: \n",
    "    \n",
    "    print('Welcome aboard!')"
   ]
  },
  {
   "cell_type": "code",
   "execution_count": 69,
   "metadata": {},
   "outputs": [
    {
     "name": "stdout",
     "output_type": "stream",
     "text": [
      "Excellent!\n"
     ]
    }
   ],
   "source": [
    "# We can also have nested statements.\n",
    "\n",
    "if programming_language == 'Python':\n",
    "    \n",
    "    if new_programming_language == 'Java script':\n",
    "        \n",
    "        print('Excellent!')"
   ]
  },
  {
   "cell_type": "code",
   "execution_count": 70,
   "metadata": {},
   "outputs": [
    {
     "name": "stdout",
     "output_type": "stream",
     "text": [
      "Brilliant\n"
     ]
    }
   ],
   "source": [
    "# Or we can use logical operators\n",
    "\n",
    "if programming_language == 'Python' and new_programming_language == 'Java script':\n",
    "    \n",
    "    print('Brilliant')"
   ]
  },
  {
   "cell_type": "markdown",
   "metadata": {},
   "source": [
    "### <u> Python Functions </u>\n",
    "\n",
    "We will talk about two types of Python functions here. User-Defined functions and built in functions. \n",
    "\n",
    "User-Defined functions allow the user to perform specific tasks by grouping a series of statements into a single piece of code named a function. This function may have a name and can be called by the user. There will be inputs, these inputs will be assesed by a series of statements within the function and then an output will be returned.\n",
    "\n",
    "Built in functions are pre-made in python and perform specific tasks. We have used many pre-made functions already such as `print` and `type`.\n",
    "\n",
    "\n"
   ]
  },
  {
   "cell_type": "markdown",
   "metadata": {},
   "source": [
    "#### <u> How does a functions work </u>\n",
    "\n",
    "Below is a Python function that takes two arguments (`a` and `b`), and returns `a + b + 1`:"
   ]
  },
  {
   "cell_type": "code",
   "execution_count": null,
   "metadata": {},
   "outputs": [],
   "source": [
    "def sum_and_increment(a, b):\n",
    "    \n",
    "    \"\"\"\"Return the sum of a and b, plus 1\"\"\"\n",
    "    \n",
    "    return a + b + 1\n",
    "\n",
    "# Call the function\n",
    "m = sum_and_increment(3, 4)\n",
    "print(m)  # Expect 8\n",
    "\n",
    "# Call the function\n",
    "m = 10\n",
    "n = sum_and_increment(m, m)\n",
    "print(n)  # Expect 21"
   ]
  },
  {
   "cell_type": "markdown",
   "metadata": {},
   "source": [
    "So what has happened?\n",
    "\n",
    "- The function has been declared using `def`, followed by the function name, `sum_and_increment`, followed by the list \n",
    "  of arguments to be passed to the function between brackets, `(a, b)`, and ended with a colon:\n",
    "  ```python\n",
    "  def sum_and_increment(a, b):\n",
    "  ```\n",
    "\n",
    "- Next comes the body of the function. The first part of the body is indented four spaces. \n",
    "  Everything that makes \n",
    "  up  the body of the function is indented at least four spaces relative to `def`. \n",
    "  In Python, the first part of the body is an optional documentation string that describes in words what the   \n",
    "  function does \n",
    "  ```python  \n",
    "      \"Return the sum of a and b, plus 1\"\n",
    "  ```\n",
    "\n",
    "- It is good practice to include a 'docstring'.  What comes after the documentation string \n",
    "  is the code that the function executes. At the end of a function is usually a `return` statement; this defines   what\n",
    "  result the function should return:\n",
    "  ```python\n",
    "      return a + b + 1\n",
    "  ```\n",
    "Anything indented to the same level (or less) as `def` falls outside of the function body.\n",
    "\n",
    "Most functions will take arguments and return something, but this is not strictly required.\n",
    "Below is an example of a function that does not take any arguments or return any variables."
   ]
  },
  {
   "cell_type": "markdown",
   "metadata": {},
   "source": [
    "#### <u> User-Defined functions </u>\n",
    "\n",
    "There are many advantages to the user creating something over which they have defined a specific role. If the same process if needed to be repeated many times, then a function can be written once and then called whenever needed. This stops code being repeated, one of Zen of Python principles, and therefore lessens mistakes and increases efficiency. It also aids with debugging as well made code will have a series of functions of which it is easy to trace any problems. Functionality can also be quickly changed over large swathes of code by simply changing parts of the function.\n",
    "\n",
    "The rules for naming a Python function are exactly the same as those for naming a variable. It is sensible to choose a descriptive name for each of your functions, aswell as inputting a suitable doc string. To define a function start with the 'def' keyword, a name, parenthesis and a colon just like below. White space is  very important when defining functions. \n",
    "\n"
   ]
  },
  {
   "cell_type": "code",
   "execution_count": 79,
   "metadata": {},
   "outputs": [
    {
     "name": "stdout",
     "output_type": "stream",
     "text": [
      "Ive just created a function!\n",
      "None\n"
     ]
    }
   ],
   "source": [
    "# The function below is named 'my_first_function' and when called it executes a print statement.\n",
    "\n",
    "def my_first_function(): # Notice the colon to finish\n",
    "    \n",
    "    \"\"\"\n",
    "    This is called a doc string. It tells the user the major details about the function and is imperative for \n",
    "    adding understanding to your code. Imagine if you come back in 6 months time, or if someone else has to use the \n",
    "    code. Would you/they understand what is going on?\n",
    "    \n",
    "    This python function prints 'Ive just created a function!' to the screen.\n",
    "    \"\"\"\n",
    "    \n",
    "    print('Ive just created a function!') #Notice the indentation\n",
    "    \n",
    "print(my_first_function()) # Notice the function is called with the parentheis at the end ()\n",
    "    "
   ]
  },
  {
   "cell_type": "markdown",
   "metadata": {},
   "source": [
    "Normally we will want our function in arguments, run those arguments through the logic held within and return an output based on the arguments and the logic. \n",
    "\n",
    "Arguments are just parameters that are specified with the parenthesis that come after the function name. A function can take any number of parameters."
   ]
  },
  {
   "cell_type": "code",
   "execution_count": 80,
   "metadata": {},
   "outputs": [
    {
     "data": {
      "text/plain": [
       "2.449489742783178"
      ]
     },
     "execution_count": 80,
     "metadata": {},
     "output_type": "execute_result"
    }
   ],
   "source": [
    "# In this function an argument, x, is specified in the function. This can then take any value needed when called\n",
    "\n",
    "def square_root(x):\n",
    "    \n",
    "    \"\"\"\n",
    "    A function to find the square root of a number\n",
    "    \n",
    "    Inputs x: Integer\n",
    "    \n",
    "    Outputs the square root of a numbers: Float\n",
    "    \"\"\"\n",
    "    \n",
    "    func_var = x**0.5\n",
    "    \n",
    "    return(func_var)\n",
    "\n",
    "square_root(6)"
   ]
  },
  {
   "cell_type": "code",
   "execution_count": 81,
   "metadata": {},
   "outputs": [
    {
     "name": "stdout",
     "output_type": "stream",
     "text": [
      "17 13\n"
     ]
    }
   ],
   "source": [
    "# This function takes in multipe arguments, including one default argument. C can be anything, but if it isnt\n",
    "# specified it takes 5 as its default value.\n",
    "\n",
    "def add_numbers(a, b, c = 5): # Notice the default argument included\n",
    "    \n",
    "    \"\"\"\n",
    "    A function that adds 3 numbers. If a third isnt specified it is 5 by default\n",
    "    \"\"\"\n",
    "    \n",
    "    func_var_addition = a + b + c\n",
    "    \n",
    "    return(func_var_addition)\n",
    "\n",
    "holding_var1 = add_numbers(5, 3, 9) # Notice the function is assigned to a variable. Also notice c has been \n",
    "                                    # assigned a value\n",
    "\n",
    "holding_var2 = add_numbers(5, 3) # Notice c hasnt been assigned a value\n",
    "\n",
    "print(holding_var1, holding_var2)\n"
   ]
  },
  {
   "cell_type": "code",
   "execution_count": 63,
   "metadata": {},
   "outputs": [
    {
     "name": "stdout",
     "output_type": "stream",
     "text": [
      "True\n",
      "False\n"
     ]
    }
   ],
   "source": [
    "# We can also pass a function as an argument. \n",
    "\n",
    "def f0(x):\n",
    "    \"Compute x^2 - 1\"\n",
    "    return x*x - 1\n",
    "\n",
    "\n",
    "def f1(x):\n",
    "    \"Compute -x^2 + 2x + 1\"\n",
    "    return -x*x + 2*x + 1\n",
    "\n",
    "\n",
    "def is_positive(f, x):\n",
    "    \"Check if the function value f(x) is positive\"\n",
    "\n",
    "    # Evaluate the function passed into the function for the value of x \n",
    "    # passed into the function\n",
    "    if f(x) > 0:\n",
    "        return True\n",
    "    else:\n",
    "        return False\n",
    "\n",
    "    \n",
    "# Value of x for which we want to test a function sign\n",
    "x = 4.5\n",
    "\n",
    "# Test function f0\n",
    "print(is_positive(f0, x))\n",
    "\n",
    "# Test function f1\n",
    "print(is_positive(f1, x))"
   ]
  },
  {
   "cell_type": "markdown",
   "metadata": {},
   "source": [
    "#### <u> Built in functions </u>\n",
    "\n",
    "Built in functions are those which come pre-packaged in Python and allow is to carry out many tasks easily. They are so ubiquitous across Python, and so useful, that we have already used some in the examples above. There are 67 in built Python functions, we won't list them all here but we will go over some common ones."
   ]
  },
  {
   "cell_type": "code",
   "execution_count": 88,
   "metadata": {},
   "outputs": [],
   "source": [
    "# There are functions which create datatypes. Notice how all the functions are called and then the arguments come\n",
    "# after inside parenthesis\n",
    "\n",
    "dict1 = dict([('Colour', 'Red'), ('Score', 5)]) # Creates a dictionary\n",
    "float1 = float(10) # Returns a float\n",
    "int1 = int(5.98) # Returns an integer\n",
    "list1 = list({1, 2, 2, 3}) # Produces a list. Remember sets don't allow repeated data\n",
    "set1 = set((1, 2, 3, 3)) # Returns the set\n",
    "string1 = str(18) # Returns a string\n",
    "tuple1 = tuple((1, 1, 2, 3)) # Returns a tuple\n"
   ]
  },
  {
   "cell_type": "code",
   "execution_count": 90,
   "metadata": {},
   "outputs": [
    {
     "name": "stdout",
     "output_type": "stream",
     "text": [
      "{'Colour': 'Red', 'Score': 5} <class 'dict'>\n",
      "10.0 <class 'float'>\n",
      "5 <class 'int'>\n",
      "[1, 2, 3] <class 'list'>\n",
      "{1, 2, 3} <class 'set'>\n",
      "18 <class 'str'>\n",
      "(1, 1, 2, 3) <class 'tuple'>\n"
     ]
    }
   ],
   "source": [
    "# Notice here we are using the print and type inbuilt python functions\n",
    "\n",
    "print(dict1, type(dict1))\n",
    "print(float1, type(float1))\n",
    "print(int1, type(int1))\n",
    "print(list1, type(list1))\n",
    "print(set1, type(set1))\n",
    "print(string1, type(string1))\n",
    "print(tuple1, type(tuple1))"
   ]
  },
  {
   "cell_type": "code",
   "execution_count": 105,
   "metadata": {},
   "outputs": [
    {
     "name": "stdout",
     "output_type": "stream",
     "text": [
      "your_computer/your_desktop/your_folder/your_file\n"
     ]
    }
   ],
   "source": [
    "# A few more useful in built functions\n",
    "\n",
    "a_range = range(20) # Returns the numbers 0-19\n",
    "b_range = range(0, 10, 2) # Returns the numbers 0, 2, 4, 6, 8\n",
    "\n",
    "a_len = len(a_range) # Returns the length of the argument\n",
    "b_len = len('What is the length') # Returns the length of the string\n",
    "\n",
    "a_list = ['Comments', 'Variables', 'Data Types']\n",
    "a_list.append('Operators') # The append function adds its argument to the list\n",
    "\n",
    "fake_file_path = 'your_computer/your_desktop/{}/your_file'.format('your_folder') # The format function will add its\n",
    "                                                                                 # argument inside the curly braces\n"
   ]
  },
  {
   "cell_type": "code",
   "execution_count": 106,
   "metadata": {},
   "outputs": [
    {
     "name": "stdout",
     "output_type": "stream",
     "text": [
      "range(0, 20)\n",
      "range(0, 10, 2)\n",
      "20\n",
      "18\n",
      "['Comments', 'Variables', 'Data Types', 'Operators']\n",
      "your_computer/your_desktop/your_folder/your_file\n"
     ]
    }
   ],
   "source": [
    "print(a_range)\n",
    "print(b_range)\n",
    "print(a_len)\n",
    "print(b_len)\n",
    "print(a_list)\n",
    "print(fake_file_path)"
   ]
  },
  {
   "cell_type": "markdown",
   "metadata": {},
   "source": [
    "### <u> Name Spaces </u>\n",
    "\n",
    "A namespace in python is a collection of names. So, a namespace is essentially a mapping of names to corresponding objects. At any instant, different python namespaces can coexist completely isolated- the isolation ensures that there are no name collisions. Simply speaking, two namespaces in python can have the same name without facing any problem. A namespace is implemented as a Python dictionary.\n",
    "\n",
    "When we start the interpreter, a python namespace is created for as long as we don’t exist. This holds all built-in names. It is due to this that python functions like print() and id() are always available. Also, each module creates its own global namespace in python.\n",
    "\n",
    "When you call a function, a local python namespace is created for all the names in it. A module has a global namespace. The built-in namespace encloses this. Take a look at the following figure to get a clearer understanding.\n",
    "\n",
    " "
   ]
  },
  {
   "cell_type": "markdown",
   "metadata": {},
   "source": [
    "### <u> Variable Scope </u>\n",
    "\n",
    "The scope of a variable in python is that part of the code where it is visible. We will talk about 2 types of variable scope here, Local and Global, however there are 4 overall.\n",
    "\n",
    "Local scope refers to variables found in functions. They are local to that function and don't affect anything outside the function. We could have the variable 'a' outside of a function take a value that is different to the variable 'a' inside the function and there would be no problems. It also mean that the vairable 'a' that is defined within the function can only be called from within the function, it cannot be called from elsewhere.\n",
    "\n",
    "Global scope refers to variables that can be read from anywhere in the program.\n",
    "\n",
    "It is really important, especially whe using Jupyter Notebooks, that you keep an eye on the scope of your variables.\n"
   ]
  },
  {
   "cell_type": "code",
   "execution_count": 111,
   "metadata": {},
   "outputs": [
    {
     "ename": "UnboundLocalError",
     "evalue": "local variable 'our_var' referenced before assignment",
     "output_type": "error",
     "traceback": [
      "\u001b[0;31m---------------------------------------------------------------------------\u001b[0m",
      "\u001b[0;31mUnboundLocalError\u001b[0m                         Traceback (most recent call last)",
      "\u001b[0;32m<ipython-input-111-c427c4de1f3e>\u001b[0m in \u001b[0;36m<module>\u001b[0;34m\u001b[0m\n\u001b[1;32m     12\u001b[0m     \u001b[0mprint\u001b[0m\u001b[0;34m(\u001b[0m\u001b[0mour_var\u001b[0m\u001b[0;34m)\u001b[0m\u001b[0;34m\u001b[0m\u001b[0;34m\u001b[0m\u001b[0m\n\u001b[1;32m     13\u001b[0m \u001b[0;34m\u001b[0m\u001b[0m\n\u001b[0;32m---> 14\u001b[0;31m \u001b[0mprint\u001b[0m\u001b[0;34m(\u001b[0m\u001b[0mcounter\u001b[0m\u001b[0;34m(\u001b[0m\u001b[0;34m)\u001b[0m\u001b[0;34m)\u001b[0m\u001b[0;34m\u001b[0m\u001b[0;34m\u001b[0m\u001b[0m\n\u001b[0m",
      "\u001b[0;32m<ipython-input-111-c427c4de1f3e>\u001b[0m in \u001b[0;36mcounter\u001b[0;34m()\u001b[0m\n\u001b[1;32m      8\u001b[0m \u001b[0;32mdef\u001b[0m \u001b[0mcounter\u001b[0m\u001b[0;34m(\u001b[0m\u001b[0;34m)\u001b[0m\u001b[0;34m:\u001b[0m\u001b[0;34m\u001b[0m\u001b[0;34m\u001b[0m\u001b[0m\n\u001b[1;32m      9\u001b[0m \u001b[0;34m\u001b[0m\u001b[0m\n\u001b[0;32m---> 10\u001b[0;31m     \u001b[0mour_var\u001b[0m \u001b[0;34m+=\u001b[0m \u001b[0;36m1\u001b[0m\u001b[0;34m\u001b[0m\u001b[0;34m\u001b[0m\u001b[0m\n\u001b[0m\u001b[1;32m     11\u001b[0m \u001b[0;34m\u001b[0m\u001b[0m\n\u001b[1;32m     12\u001b[0m     \u001b[0mprint\u001b[0m\u001b[0;34m(\u001b[0m\u001b[0mour_var\u001b[0m\u001b[0;34m)\u001b[0m\u001b[0;34m\u001b[0m\u001b[0;34m\u001b[0m\u001b[0m\n",
      "\u001b[0;31mUnboundLocalError\u001b[0m: local variable 'our_var' referenced before assignment"
     ]
    }
   ],
   "source": [
    "# An issue arising from global scope. Here we assign our variable the integer 1 globally. We want our function to\n",
    "# to act as a counter and add 1 our variable each time it is called. An error is returned saying we have referenced\n",
    "# our local variable before assignments. This is because the local variable is inside the scope of the function \n",
    "# and we can't change the global variable that is outside of it.\n",
    "\n",
    "our_var = 1\n",
    "\n",
    "def counter():\n",
    "    \n",
    "    our_var += 1\n",
    "    \n",
    "    print(our_var)\n",
    "    \n",
    "counter()"
   ]
  },
  {
   "cell_type": "code",
   "execution_count": 113,
   "metadata": {},
   "outputs": [
    {
     "name": "stdout",
     "output_type": "stream",
     "text": [
      "3\n"
     ]
    }
   ],
   "source": [
    "# To change the global variable we can call the global keyword which is inbuilt in python\n",
    "\n",
    "our_new_var = 2\n",
    "\n",
    "def counter():\n",
    "    \n",
    "    global our_new_var \n",
    "    \n",
    "    our_new_var += 1\n",
    "    \n",
    "    print(our_new_var)\n",
    "    \n",
    "counter()"
   ]
  },
  {
   "cell_type": "markdown",
   "metadata": {},
   "source": [
    "### <u> Python loops </u>\n",
    "\n",
    "One of the benfits of programming languages are that they can carry out thousands, if not millions, of operations every second. One way of doing this is to use a loops, something that will execute a statement, or set of statements, many times. \n",
    "\n",
    "In Python this is refered to as iterating, you would iterate over a list or a tuple for instance. The collection of objects that are iterated over are refered to as iterables, and so a loop iterates over an iterable. When using for loops we will commonly use other Python constructs, such as operators and inbuilt functions.\n",
    "\n",
    "We will cover Python for loops, nested for loops and while loops in this tutorial."
   ]
  },
  {
   "cell_type": "markdown",
   "metadata": {},
   "source": [
    "#### <u> Python for loops </u>\n",
    "\n",
    "A for loop will iterate over a sequence of items. We call the loop with the keyword 'for', we end the line with a colon and we make use of whitespace just like in functions.\n",
    "\n",
    "We will commonly assigne the letter i to be our 'index' that changes value as we iterate over the iterator."
   ]
  },
  {
   "cell_type": "markdown",
   "metadata": {},
   "source": [
    "\n"
   ]
  },
  {
   "cell_type": "markdown",
   "metadata": {},
   "source": [
    "A `for` loop is a block that repeats an operation a specified number of times (loops). The concept is rich, but we start with the simplest and most common usage:"
   ]
  },
  {
   "cell_type": "code",
   "execution_count": 23,
   "metadata": {},
   "outputs": [
    {
     "name": "stdout",
     "output_type": "stream",
     "text": [
      "----\n",
      "0 0\n",
      "----\n",
      "1 1\n",
      "----\n",
      "2 4\n",
      "----\n",
      "3 9\n"
     ]
    }
   ],
   "source": [
    "for n in range(4):\n",
    "    print(\"----\")\n",
    "    print(n, n**2)"
   ]
  },
  {
   "cell_type": "markdown",
   "metadata": {},
   "source": [
    "The above executes the loop 4 times over the integers 0, 1, 2 and 3. The statement \n",
    "```python\n",
    "for n in range(4):\n",
    "```\n",
    "says that we want to loop over four integers, and by default it starts from zero\n",
    "(see https://docs.python.org/3/library/stdtypes.html#range for the documentation for `range`). \n",
    "The value of `n` is incremented in each loop iteration. The code we want to execute inside the loop is indented by four spaces: \n",
    "```python\n",
    "    print(\"----\")\n",
    "    print(n, n**2)\n",
    "```\n",
    "The loop starts from zero and does not include 4 - `range(4)` is a shortcut for `range(0, 4)`. We can change the starting value if we need to:"
   ]
  },
  {
   "cell_type": "code",
   "execution_count": 24,
   "metadata": {},
   "outputs": [
    {
     "name": "stdout",
     "output_type": "stream",
     "text": [
      "-2\n",
      "-1\n",
      "0\n",
      "1\n",
      "2\n"
     ]
    }
   ],
   "source": [
    "for i in range(-2, 3):\n",
    "    print(i)"
   ]
  },
  {
   "cell_type": "markdown",
   "metadata": {},
   "source": [
    "The loop starts at -2, but does not include 3. If we want to increment in steps of three rather than one:"
   ]
  },
  {
   "cell_type": "code",
   "execution_count": 25,
   "metadata": {},
   "outputs": [
    {
     "name": "stdout",
     "output_type": "stream",
     "text": [
      "0\n",
      "3\n",
      "6\n",
      "9\n"
     ]
    }
   ],
   "source": [
    "for n in range(0, 10, 3):\n",
    "    print(n)"
   ]
  },
  {
   "cell_type": "markdown",
   "metadata": {},
   "source": [
    "#### Example: conversion table from degrees Fahrenheit to degrees Celsius\n",
    "\n",
    "We can use a `for` loop to create a conversion table from degrees Fahrenheit ($T_F$) to degrees Celsius ($T_c$), using the formula:\n",
    "\n",
    "$$\n",
    "T_c = 5(T_f - 32)/9\n",
    "$$\n",
    "\n",
    "Computing the conversion from -100 F to 200 F in steps of 20 F (not including 200 F):"
   ]
  },
  {
   "cell_type": "code",
   "execution_count": 27,
   "metadata": {},
   "outputs": [
    {
     "name": "stdout",
     "output_type": "stream",
     "text": [
      "T_f,    T_c\n",
      "-100 -73.33333333333333\n",
      "-80 -62.22222222222222\n",
      "-60 -51.111111111111114\n",
      "-40 -40.0\n",
      "-20 -28.88888888888889\n",
      "0 -17.77777777777778\n",
      "20 -6.666666666666667\n",
      "40 4.444444444444445\n",
      "60 15.555555555555555\n",
      "80 26.666666666666668\n",
      "100 37.77777777777778\n",
      "120 48.888888888888886\n",
      "140 60.0\n",
      "160 71.11111111111111\n",
      "180 82.22222222222223\n"
     ]
    }
   ],
   "source": [
    "print(\"T_f,    T_c\")\n",
    "for Tf in range(-100, 200, 20):\n",
    "    print(Tf, (Tf - 32)*5/9)"
   ]
  },
  {
   "cell_type": "markdown",
   "metadata": {},
   "source": [
    "#### <u> Python While loops </u>\n",
    "\n",
    "We have seen that `for` loops execute the loop body a specified number of times. A `while` loop performs a task while a specified statement is true. For example:"
   ]
  },
  {
   "cell_type": "code",
   "execution_count": 29,
   "metadata": {},
   "outputs": [
    {
     "name": "stdout",
     "output_type": "stream",
     "text": [
      "Start of while statement\n",
      "-2\n",
      "-1\n",
      "0\n",
      "1\n",
      "2\n",
      "3\n",
      "4\n",
      "End of while statement\n"
     ]
    }
   ],
   "source": [
    "print(\"Start of while statement\")\n",
    "x = -2\n",
    "while x < 5:\n",
    "    print(x)\n",
    "    x += 1  # Increment x\n",
    "print(\"End of while statement\")"
   ]
  },
  {
   "cell_type": "markdown",
   "metadata": {},
   "source": [
    "The body of the `while` statement, which follows the `while` statement and is indented four spaces, is executed and repeated until `x < 5` is `False`.\n",
    "\n",
    "It can be quite easy to cause a crash using a `while` loop. E.g.,\n",
    "```python\n",
    "x = -2\n",
    "while x < 5:\n",
    "    print(x)\n",
    "```\n",
    "will continue indefinitely since `x < 5 == False`  will never be satisfied. This is known as an *infinite loop*. It is usually good practice to add checks to avoid an infinite loop, e.g. specify a maximum number of permitted loops. More on avoiding infinite loops below.\n",
    "\n",
    "The above example could have been implemented using a `for` loop, and a `for` loop would be preferred in this case. The following is an example of where a `while` is appropriate:"
   ]
  },
  {
   "cell_type": "code",
   "execution_count": 30,
   "metadata": {},
   "outputs": [
    {
     "name": "stdout",
     "output_type": "stream",
     "text": [
      "0.81\n",
      "0.6561000000000001\n",
      "0.43046721000000016\n",
      "0.18530201888518424\n",
      "0.03433683820292518\n",
      "0.001179018457773862\n",
      "1.390084523771456e-06\n"
     ]
    }
   ],
   "source": [
    "x = 0.9\n",
    "while x > 0.001:\n",
    "    # Square x (we could have used the shorthand x *= x)\n",
    "    x = x*x\n",
    "    print(x)"
   ]
  },
  {
   "cell_type": "markdown",
   "metadata": {},
   "source": [
    "since we might not know beforehand how many steps are required before `x > 0.001` becomes false. \n",
    "\n",
    "If $x \\ge 1$, the above would lead to an infinite loop. To make a code robust, it would be good practice to check that $x < 1$ before entering the `while` loop."
   ]
  },
  {
   "cell_type": "markdown",
   "metadata": {},
   "source": [
    "#### <u> Python Break, Continue and Pass </u>\n",
    "\n",
    "#### <u> break </u>\n",
    "\n",
    "Sometimes we want to break out of a `for` or `while` loop. Maybe in a `for` loop we can check if something is true, and then exit the loop prematurely, e.g."
   ]
  },
  {
   "cell_type": "code",
   "execution_count": 31,
   "metadata": {},
   "outputs": [
    {
     "name": "stdout",
     "output_type": "stream",
     "text": [
      "0\n",
      "1\n",
      "2\n",
      "3\n",
      "4\n",
      "5\n",
      "Time to break out\n"
     ]
    }
   ],
   "source": [
    "for x in range(10):\n",
    "    print(x)\n",
    "    if x == 5:\n",
    "        print(\"Time to break out\")\n",
    "        break\n",
    "           "
   ]
  },
  {
   "cell_type": "markdown",
   "metadata": {},
   "source": [
    "Below is a program for finding prime numbers that uses a `break` statement. Take some time to understand what it does. It might be helpful to add some print statements to understand the flow.\n"
   ]
  },
  {
   "cell_type": "code",
   "execution_count": 33,
   "metadata": {},
   "outputs": [
    {
     "name": "stdout",
     "output_type": "stream",
     "text": [
      "2\n",
      "3\n",
      "5\n",
      "7\n",
      "11\n",
      "13\n",
      "17\n",
      "19\n",
      "23\n",
      "29\n",
      "31\n",
      "37\n",
      "41\n",
      "43\n",
      "47\n"
     ]
    }
   ],
   "source": [
    "N = 50  # Check numbers up 50 for primes (excludes 50)\n",
    "\n",
    "# Loop over all numbers from 2 to 50 (excluding 50)\n",
    "for n in range(2, N):\n",
    "\n",
    "    # Assume that n is prime\n",
    "    n_is_prime = True\n",
    "\n",
    "    # Check if n can be divided by m, where m ranges from 2 to n (excluding n)\n",
    "    for m in range(2, n):\n",
    "         if n % m == 0:  # This is true if the remainder for n/m is equal to zero\n",
    "            # We've found that n is divisable by m, so it can't be a prime number. \n",
    "            # No need to check for more values of m, so set n_is_prime = False and\n",
    "            # exit the 'm' loop.\n",
    "            n_is_prime = False\n",
    "            break\n",
    "\n",
    "    #  If n is prime, print to screen        \n",
    "    if n_is_prime:\n",
    "        print(n)"
   ]
  },
  {
   "cell_type": "markdown",
   "metadata": {},
   "source": [
    "Try modifying the code for finding prime numbers such that it finds the first $N$ prime numbers (since you do not know how many numbers you need to check to find $N$ primes, use a `while` loop)."
   ]
  },
  {
   "cell_type": "markdown",
   "metadata": {},
   "source": [
    "#### <u> Continue </u>\n",
    "\n",
    "Sometimes we want to go prematurely to the next iteration in a loop, skipping the remaining code in the loop body.\n",
    "For this we use `continue`. Here is an example that loops over 20 numbers (0 to 19) and checks if the number is divisible by 4. If it is divisible by 4 it prints a message before moving to the next value. If it is not divisible by 4 it advances the loop. "
   ]
  },
  {
   "cell_type": "code",
   "execution_count": 36,
   "metadata": {},
   "outputs": [
    {
     "name": "stdout",
     "output_type": "stream",
     "text": [
      "Number is not divisible by 4: 1\n",
      "Number is not divisible by 4: 2\n",
      "Number is not divisible by 4: 3\n",
      "Number is not divisible by 4: 5\n",
      "Number is not divisible by 4: 6\n",
      "Number is not divisible by 4: 7\n",
      "Number is not divisible by 4: 9\n",
      "Number is not divisible by 4: 10\n",
      "Number is not divisible by 4: 11\n",
      "Number is not divisible by 4: 13\n",
      "Number is not divisible by 4: 14\n",
      "Number is not divisible by 4: 15\n",
      "Number is not divisible by 4: 17\n",
      "Number is not divisible by 4: 18\n",
      "Number is not divisible by 4: 19\n"
     ]
    }
   ],
   "source": [
    "for j in range(20):\n",
    "    if j % 4 == 0:  # Check remained of j/4\n",
    "        continue  # jump to next iteration over j\n",
    "    print(\"Number is not divisible by 4:\", j)"
   ]
  },
  {
   "cell_type": "markdown",
   "metadata": {},
   "source": [
    "#### <u> Pass </u>\n",
    "\n",
    "Sometimes we need a statement that does nothing. It is often used during development where syntactically some code is required but which you have not yet written. For example:  "
   ]
  },
  {
   "cell_type": "code",
   "execution_count": 38,
   "metadata": {},
   "outputs": [
    {
     "name": "stdout",
     "output_type": "stream",
     "text": [
      "25\n",
      "36\n",
      "49\n",
      "64\n",
      "9\n"
     ]
    }
   ],
   "source": [
    "for x in range(10):\n",
    "    if x < 5:\n",
    "        # TODO: implement handling of x < 5 when other cases finished \n",
    "        pass\n",
    "    elif x < 9:\n",
    "        print(x*x)\n",
    "    else:\n",
    "        print(x)"
   ]
  },
  {
   "cell_type": "markdown",
   "metadata": {},
   "source": [
    "It can also help readability. Maybe in a program nothing needs to be done for specific cases, but someone reading the code might reasonably think that something should be done and suspect a bug. Using `pass` says to the reader that it was the programmer's intention that nothing should be done."
   ]
  },
  {
   "cell_type": "markdown",
   "metadata": {},
   "source": [
    "#### <u> Infinite loops: cause and guarding against </u>\n",
    "\n",
    "A common bug, especially when using `while` statements, is the [infinite loop](https://en.wikipedia.org/wiki/Infinite_loop). This is when a loop is entered but never terminates (exits).\n",
    "Infinite loops can render a system unresponsive, sometimes requiring a shutdown to restore function.\n",
    "\n",
    "It is good practice, espeically when learning, to add guards against infinite loops. For example, "
   ]
  },
  {
   "cell_type": "code",
   "execution_count": 39,
   "metadata": {},
   "outputs": [
    {
     "name": "stdout",
     "output_type": "stream",
     "text": [
      "Loop count exceeded 2000. Exiting\n"
     ]
    }
   ],
   "source": [
    "x = 0.0\n",
    "\n",
    "counter = 0\n",
    "while x < 0.05:\n",
    "\n",
    "    # Guard against infinite loop\n",
    "    counter += 1\n",
    "    if counter > 2000:\n",
    "        print(\"Loop count exceeded 2000. Exiting\")\n",
    "        break"
   ]
  },
  {
   "cell_type": "markdown",
   "metadata": {},
   "source": [
    "### <u> Congratulations! </u>\n",
    "\n",
    "You've just covered all the basics to get you going writing your own Python code! "
   ]
  },
  {
   "cell_type": "code",
   "execution_count": null,
   "metadata": {},
   "outputs": [],
   "source": []
  }
 ],
 "metadata": {
  "kernelspec": {
   "display_name": "Python 3.6.10 64-bit ('Programming_Course': conda)",
   "language": "python",
   "name": "python361064bitprogrammingcoursecondaace16560e79143c0970c9541d83dfbe5"
  },
  "language_info": {
   "codemirror_mode": {
    "name": "ipython",
    "version": 3
   },
   "file_extension": ".py",
   "mimetype": "text/x-python",
   "name": "python",
   "nbconvert_exporter": "python",
   "pygments_lexer": "ipython3",
   "version": "3.6.10"
  }
 },
 "nbformat": 4,
 "nbformat_minor": 2
}
