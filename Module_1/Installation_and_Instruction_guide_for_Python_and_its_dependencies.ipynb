{
 "cells": [
  {
   "cell_type": "markdown",
   "metadata": {},
   "source": [
    "# <u> Installation and Instruction Guide for Python and its Dependencies </u>\n",
    "\n",
    "This installation guide is to help set you up with all the tools needed to carry out your own Python projects. \n",
    "\n",
    "<b> Section 1 </b> contains a glossary of terms. <br>\n",
    "\n",
    "<b> Section 2 </b> describes the installation process for Anaconda, and therefore Python, and the setting up of a virtual environment. <br>\n",
    "\n",
    "<b> Section 3 </b> briefly describes how to install and use Jupyter Notebooks. <br>\n",
    "\n",
    "<b> Section 4 </b> describes how to install packages using either the Anaconda Prompt if you are on Windows or the command line if you are using Mac.\n"
   ]
  },
  {
   "cell_type": "markdown",
   "metadata": {},
   "source": [
    "## <u> Section 1 - Glossary </u>\n",
    "\n",
    "#### <u>Python</u> \n",
    "\n",
    "The programming language. It is very versatile supporting areas as diverse as data science and cheminformatics to website design and internet of things. Python has a very active community who develop ‘packages’ – software that is built to solve certain problems which can be imported into your own Python scripts. \n",
    "\n",
    "#### <u>Packages/Modules/libraries </u> \n",
    "\n",
    "Software that has a specific functionality. For example, the Numerical Python package (numpy) is a fundamental package for scientific computing. Numpy can be used to simply manipulate data, build arrays or run calculations. Packages are imported into any python script you make, you then use their functionality saving you the time of coding it yourself.\n",
    "\n",
    "#### <u>Anaconda</u> \n",
    "\n",
    "Anaconda can be thought of as a one stop shop for all things Python and data science. It’s almost an umbrella; by downloading Anaconda you also get Python, Jupyter notebooks and a whole host of other useful programmes. It is also a package manager and virtual environment manager. \n",
    "\n",
    "#### <u>Virtual environment</u> \n",
    "\n",
    "You may have multiple Python projects happening at once. A virtual environment is a named, isolated copy of Python that has its own files and packages. Anything done inside a virtual environment is specific to that environment and won’t affect any other projects. All the dependencies and packages you install will be sandboxed inside the environment you are using. You should therefore have a seperate virtual environment for each seperate project. \n",
    "\n",
    "#### <u> Jupyter Notebook </u>\n",
    "\n",
    "Comes with Anaconda. Jupyter (formerly IPython Notebook) is an open-source project that lets you easily combine markdown text and executable Python source code on one canvas called a notebook. They are both human readable documents containing the analysis description and the results (figures, tables, etc..) as well as executable documents which run the code to perform the data analysis.\n",
    "\n",
    "#### <u>Terminal/Command Line </u> \n",
    "\n",
    "A command-line interface processes commands to a computer program in the form of lines of text. The program which handles the interface is called a command-line interpreter or command-line processor. Put simply, you can type code (commands) into the terminal which will effect changes on your computer. It is often much faster, and much easier to understand, than using your mouse to perform similar tasks\n",
    "\n",
    "#### <u>Anaconda Prompt </u> \n",
    "\n",
    "The Anaconda prompt brings all the functionality and benefits of the Terminal described above to Windows. It allows you to enter written commands (code) to effect changes specifially to programmes controlled by Anaconda. It makes installing libraries and setting up Virtual Environments very easy.\n"
   ]
  },
  {
   "cell_type": "markdown",
   "metadata": {},
   "source": [
    "## <u> Section 2 – Installing Python through the Anaconda Navigator </u>"
   ]
  },
  {
   "cell_type": "markdown",
   "metadata": {},
   "source": [
    "#### <u> Installation </u> \n",
    "\n",
    "\n",
    "The easiest way to install Python is through the package and virtual environment manager Anaconda. Anaconda is free and open source and the Individual Edition can be installed from https://www.anaconda.com/.\n",
    "\n",
    "Make sure to install the correct version of Anaconda based on your operating system (Windows, Mac etc). You must also dowonload it with Python 3.7, this is the most up to date version. When prompted to choose who to install it for, choose 'Just Me' which is the recommended option."
   ]
  },
  {
   "cell_type": "markdown",
   "metadata": {},
   "source": [
    "![picture](installation_type.png)"
   ]
  },
  {
   "cell_type": "markdown",
   "metadata": {},
   "source": [
    "Leave the installion location as the default one and then register Anaconda as you default Python 3.7."
   ]
  },
  {
   "cell_type": "markdown",
   "metadata": {},
   "source": [
    "![picture](installation_options.png)"
   ]
  },
  {
   "cell_type": "markdown",
   "metadata": {},
   "source": [
    "___________________________________________________________________________________________________________________\n",
    "<u> <center> Build from source - Only applicable if you need a specific Python build <center> </u>\n",
    "\n",
    "To build Python from source it can be downloaded from https://www.python.org/. This is the homepage for Python and as such contains documentations, user guides and an active community. Only install this way if you want a specific Python build.\n",
    "___________________________________________________________________________________________________________________\n",
    "\n",
    "\n",
    "    \n",
    "#### <u> Using Anaconda </u> \n",
    "\n",
    "A virtual environment should now be created. This should be done for each new project that is started. Skip to section 4 for instructions on how to do this from the command line. \n",
    "\n",
    "> 1) In the Anaconda navigator select the Environments tab from the menu options on the left. You will see a screen come up that has a list of environments and the packages they contain. On your first go there will only be the ‘base (root)’ environment."
   ]
  },
  {
   "cell_type": "markdown",
   "metadata": {},
   "source": [
    "![picture](conda_nav_env.png)"
   ]
  },
  {
   "cell_type": "markdown",
   "metadata": {},
   "source": [
    "> 2) At the bottom of the section that contains the environment names, choose ‘create’. "
   ]
  },
  {
   "cell_type": "markdown",
   "metadata": {},
   "source": [
    "![picture](conda_new_env.png)"
   ]
  },
  {
   "cell_type": "markdown",
   "metadata": {},
   "source": [
    "> 3) A pop-up box will appear, give your environment a descriptive name and choose Python 3.7 from the drop-down menu."
   ]
  },
  {
   "cell_type": "markdown",
   "metadata": {},
   "source": [
    "![picture](conda_name_env.png)"
   ]
  },
  {
   "cell_type": "markdown",
   "metadata": {},
   "source": [
    "Congratulations, you have now created a virtual environment manually using the Anaconda environment manager!"
   ]
  },
  {
   "cell_type": "markdown",
   "metadata": {},
   "source": [
    "## <u> Section 3 – Installing and Using Jupyter Notebooks </u>\n",
    "\n",
    "#### <u> Installing Jupyter Notebooks </u> \n",
    "    \n",
    "Now that an environment has been made it is time install the tools needed to carry out the project. This section will describe how to quickly install Jupyter Notebooks using the Anaconda Navigator. For information on how to get the rest of the packages installed via the command line refer to <b> Section 4 </b>.\n",
    "\n",
    "Navigate back to the home screen using the menu on the left. From here select the text ‘Applications on’ followed by a drop-down menu. Make sure you select the environment you have just created and then install Jupyter Notebooks."
   ]
  },
  {
   "cell_type": "markdown",
   "metadata": {},
   "source": [
    "![picture](gui_install_jupyter.png)"
   ]
  },
  {
   "cell_type": "markdown",
   "metadata": {},
   "source": [
    "You can now run the environment in two ways:\n",
    "\n",
    "> 1)\tLaunch directly from the Jupyter Notebook you have just installed \n",
    "\n",
    "> 2)\tNavigate to the Environments tab. Press the play button next to your environment and select ‘Open with Jupyter Notebook’ from the drop-down menu\n",
    "\n",
    "Congratulations! You now have an environment set up and can start programming in Jupyter Notebooks!"
   ]
  },
  {
   "cell_type": "markdown",
   "metadata": {},
   "source": [
    "#### <u> Using Jupyter Notebooks </u> \n",
    "\n",
    "A Jupyter Notebook is tool that allows you to interactively develop and present Python projects. Jupyter Notebooks integrate markdown text, code and code output into a single document. This means that they contain the text, mathematical equations, and graphs that the code produces directly in the same page. In this way they promote a a fast iterative development as each section of code can be displayed immedaitaley."
   ]
  },
  {
   "cell_type": "markdown",
   "metadata": {},
   "source": [
    "![picture](Input.png)"
   ]
  },
  {
   "cell_type": "markdown",
   "metadata": {},
   "source": [
    "The default notebook is displaye as above. It is currently 'Untitled' as we haven't given it a title yet. To name it something descriptive, hover over the current name and click. We'll name ours 'Chemistry Notebook 1'."
   ]
  },
  {
   "cell_type": "markdown",
   "metadata": {},
   "source": [
    "![picture](Renamed_file.png)"
   ]
  },
  {
   "cell_type": "markdown",
   "metadata": {},
   "source": [
    "The In[ ] specifies where you type your input. The output of the code is displayed dirctly below it as demonstrated below. "
   ]
  },
  {
   "cell_type": "markdown",
   "metadata": {},
   "source": [
    "![picture](Output.png) "
   ]
  },
  {
   "cell_type": "markdown",
   "metadata": {},
   "source": [
    "The In[ ] now has a 1 in it to indicate the order in which the cells have been ran. So as this was our first cell it becomes In [1], however if we were to go on and run 3 more cells before re-running this cell it would become In[5], as it was now run fifth.\n"
   ]
  },
  {
   "cell_type": "markdown",
   "metadata": {},
   "source": [
    "To run a code chunk you may either press the play button, circled in the picture below, or you can press 'shift+enter'. This will execute any code in a code cell, or it will print to screen writing in markdown cell."
   ]
  },
  {
   "cell_type": "markdown",
   "metadata": {},
   "source": [
    "![picture](running.png) "
   ]
  },
  {
   "cell_type": "markdown",
   "metadata": {},
   "source": [
    "Try running the code cell below. Notice how the number appears in the In[ ] to let you know that it has been run and in what order. "
   ]
  },
  {
   "cell_type": "code",
   "execution_count": 5,
   "metadata": {},
   "outputs": [
    {
     "name": "stdout",
     "output_type": "stream",
     "text": [
      "Run this code chunk to see how it works for yourself!\n"
     ]
    }
   ],
   "source": [
    "print('Run this code chunk to see how it works for yourself!')"
   ]
  },
  {
   "cell_type": "markdown",
   "metadata": {},
   "source": [
    "So far we have covered how to give your notebook a title and how to run pieces of code. However, we haven't covered one of Jupyters biggest advantages: its markdown capabilities. The markdown sections contain all the text you're currently reading aswell as all the pictures. These sections allow for code, or results, to be properly explained allowing for a whole report to be written in one place."
   ]
  },
  {
   "cell_type": "markdown",
   "metadata": {},
   "source": [
    "The first thing we need to do to create our markdown cell is to create a new cell. Do this by pressing the plus button in the ribbon at the top, as shown below."
   ]
  },
  {
   "cell_type": "markdown",
   "metadata": {},
   "source": [
    "![picture](add_chunk.png) "
   ]
  },
  {
   "cell_type": "markdown",
   "metadata": {},
   "source": [
    "Try adding your own code chunk here!"
   ]
  },
  {
   "cell_type": "markdown",
   "metadata": {},
   "source": [
    "We now need to convert the cell we've just created from a code cell to a markdown one. This can be done by entering the cell and pressing 'esc+m' or by using the dropdown menu at the top of the screen."
   ]
  },
  {
   "cell_type": "markdown",
   "metadata": {},
   "source": [
    "![picture](markdown.png) "
   ]
  },
  {
   "cell_type": "markdown",
   "metadata": {},
   "source": [
    "Once youve made a mardown cell there are a few shorcuts that will be useful. Titles can be made by using the # key, the number of #'s you use determine the size of the heading. Stars are used for italics and bold font. "
   ]
  },
  {
   "cell_type": "markdown",
   "metadata": {},
   "source": [
    "![picture](markdown_text.png) "
   ]
  },
  {
   "cell_type": "markdown",
   "metadata": {},
   "source": [
    "As you have probably seen there are plenty of other tabs in the notebooks as well as a ton more functionallity. we'll describe what a few of the menus do here and then leave the rest for you to discover by yourselves as and when you need them. \n",
    "<br>\n",
    "\n",
    "<b> File </b>: This allows you to create, copy, rename, and save your notebooks to file. The most notable item in the File menu is the Download as drop down menu which lets you download your notebook in a variety of formats including pdf, html, and slides — perfect for creating a presentation!\n",
    "\n",
    "<br>\n",
    "<b> Edit </b>: This menu lets you do the good’ol can cut, copy, and paste of code. You can also reorder cells here, perhaps if you’re creating a notebook for an interactive presentation and want to show your audience things in a certain order.\n",
    "<br>\n",
    "\n",
    "<b> View </b>: This menu lets you play around with things like displaying line numbers and modifying the toolbar. The best feature in this menu is definitely the Cell Toolbar where you can add tags, notes, and attachments to each cell. You can even select the formatting you would want for this cell if you turned the notebook into a slide show!\n",
    "\n",
    "<br>\n",
    "<b> Insert </b>: This is just for inserting cells above or below the currently selected cell. The Cell menu is where you go to run your cells in a specific order or change the cell type.\n",
    "\n",
    "<br>\n",
    "\n",
    "<b> Help </b> : This menu gives you direct access to important documentation. You’ll be able to learn about all the Jupyter Notebook shortcuts to speed up your workflow. You also get convenient links to the documentation of some of the most important Python libraries including Numpy, Scipy, Matplotlib, and Pandas!"
   ]
  },
  {
   "cell_type": "markdown",
   "metadata": {},
   "source": [
    "## <u> Section 4 – Using Anaconda via the Command Line </u>\n",
    "\n",
    "The Anaconda navigator can be used to create environments and install packages manually, however not all modules are available through anaconda and it is often more efficient to create an environment using the command line instead.\n",
    "\n",
    "If you are using a windows machine you will need to bring up the Anaconda Prompt, if you are using Mac you need to bring up the Terminal. "
   ]
  },
  {
   "cell_type": "markdown",
   "metadata": {},
   "source": [
    "#### <u> Opening Anaconda Command on Windows </u>\n",
    "\n",
    "To get the Anaconda Prompt open in Windows, open the start menu and type 'Annaconda Prompt'. This will bring up a window for, surprisingly, the Anaconda Prompt. From here you can input instructions directly to the computer."
   ]
  },
  {
   "cell_type": "markdown",
   "metadata": {},
   "source": [
    "![picture](conda_prompt.png) "
   ]
  },
  {
   "cell_type": "markdown",
   "metadata": {},
   "source": [
    "#### <u> Opening Terminal on Mac </u>\n",
    "\n",
    "To get the Terminal open on mac, go onto Launchpad and type 'Terminal'. Again, this will allow you to input instrutions directly into the computer. "
   ]
  },
  {
   "cell_type": "markdown",
   "metadata": {},
   "source": [
    "![picture](terminal.png) "
   ]
  },
  {
   "cell_type": "markdown",
   "metadata": {},
   "source": [
    "#### <u> Managing Environments </u>\n",
    "\n",
    "The commands for creating and loading environments are exactly the same in both Windows and Mac. The first thing we need to do is create a new environment and set the version of Python that we want the environment to run. This can be achieved with one command."
   ]
  },
  {
   "cell_type": "markdown",
   "metadata": {},
   "source": [
    "![picture](conda_create.png)"
   ]
  },
  {
   "cell_type": "markdown",
   "metadata": {},
   "source": [
    "Breaking this down:\n",
    "\n",
    "> 1) We first tell Anaconda that we are creating a new environment with the 'conda create' command. <br>\n",
    "> 2) Secondly, we tell Anaconda that we want to name the environment with the '--name' command <br>\n",
    "> 3) We name the environment, in this case we have chosen 'my_first_env' <br>\n",
    "> 4) Set the version of Python we wish to use in the environment, in this case Python 3.6\n"
   ]
  },
  {
   "cell_type": "markdown",
   "metadata": {},
   "source": [
    "Once this command has been executed, Conda will ask you if you want to proceed. Type Y and press enter. "
   ]
  },
  {
   "cell_type": "markdown",
   "metadata": {},
   "source": [
    "You can now check you have created the environment successfully, or you can check other environments you have previously made in the following way:"
   ]
  },
  {
   "cell_type": "markdown",
   "metadata": {},
   "source": [
    "![picture](conda_info.png)"
   ]
  },
  {
   "cell_type": "markdown",
   "metadata": {},
   "source": [
    "You should now see the environment you have just created listed in the output."
   ]
  },
  {
   "cell_type": "markdown",
   "metadata": {},
   "source": [
    "#### <u> Launching Environments </u>\n",
    "\n",
    "We now need to run the environment that has just been made. To do this type:"
   ]
  },
  {
   "cell_type": "markdown",
   "metadata": {},
   "source": [
    "![picture](conda_activate.png)"
   ]
  },
  {
   "cell_type": "markdown",
   "metadata": {},
   "source": [
    "'conda activate' lets Anaconda know that we want to run an environment. The part that comes after, in this case 'my_first_env' is simply the name of the environment that needs to be run."
   ]
  },
  {
   "cell_type": "markdown",
   "metadata": {},
   "source": [
    "#### <u> Closing Environments </u>\n",
    "\n",
    "To deactivate an environment we do the opposite of the command above:"
   ]
  },
  {
   "cell_type": "markdown",
   "metadata": {},
   "source": [
    "![picture](conda_deactivate.png)"
   ]
  },
  {
   "cell_type": "markdown",
   "metadata": {},
   "source": [
    "#### <u> Installing Packages </u>\n",
    "\n",
    "Now that the environment is set up, it needs to be populated with useful packages and libraries. This is exactly like when we installed Jupyter Notebooks in section 3, however instead of doing it through the Anaconda Navigator we will do it through the command line.\n",
    "\n",
    "\n",
    "There are two main ways of installing packages, via conda or via pip. Pip is simply another package manager for Python, a bit like Anaconda, though it doesnt come with all the bells and whistles. It is good practise to always try and install a package via conda, and then only if it is not available this way, then use pip.\n",
    "\n",
    "The commands are very similar - 'conda install' and 'pip install'\n",
    "\n",
    "\n",
    "Here, we demonstrate how to install Numpy (numerical Python) via conda and pip."
   ]
  },
  {
   "cell_type": "markdown",
   "metadata": {},
   "source": [
    "![picture](conda_install.png)\n",
    "![picture](pip_install.png)"
   ]
  },
  {
   "cell_type": "markdown",
   "metadata": {},
   "source": [
    "And its as simple as that. Press enter when prompted and any package that you need will be downloaded into your environment!"
   ]
  },
  {
   "cell_type": "code",
   "execution_count": null,
   "metadata": {},
   "outputs": [],
   "source": []
  }
 ],
 "metadata": {
  "kernelspec": {
   "display_name": "Python 3",
   "language": "python",
   "name": "python3"
  },
  "language_info": {
   "codemirror_mode": {
    "name": "ipython",
    "version": 3
   },
   "file_extension": ".py",
   "mimetype": "text/x-python",
   "name": "python",
   "nbconvert_exporter": "python",
   "pygments_lexer": "ipython3",
   "version": "3.6.10"
  }
 },
 "nbformat": 4,
 "nbformat_minor": 4
}
